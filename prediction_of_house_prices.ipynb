{
  "nbformat": 4,
  "nbformat_minor": 0,
  "metadata": {
    "kernelspec": {
      "display_name": "Python 3",
      "language": "python",
      "name": "python3"
    },
    "language_info": {
      "codemirror_mode": {
        "name": "ipython",
        "version": 3
      },
      "file_extension": ".py",
      "mimetype": "text/x-python",
      "name": "python",
      "nbconvert_exporter": "python",
      "pygments_lexer": "ipython3",
      "version": "3.6.6"
    },
    "colab": {
      "name": "prediction-of-house-prices.ipynb",
      "provenance": [],
      "include_colab_link": true
    }
  },
  "cells": [
    {
      "cell_type": "markdown",
      "metadata": {
        "id": "view-in-github",
        "colab_type": "text"
      },
      "source": [
        "<a href=\"https://colab.research.google.com/github/mnassrib/prediction-of-house-prices/blob/master/prediction_of_house_prices.ipynb\" target=\"_parent\"><img src=\"https://colab.research.google.com/assets/colab-badge.svg\" alt=\"Open In Colab\"/></a>"
      ]
    },
    {
      "cell_type": "markdown",
      "metadata": {
        "_cell_guid": "79c7e3d0-c299-4dcb-8224-4455121ee9b0",
        "_uuid": "d629ff2d2480ee46fbb7e2d37f6b5fab8052498a",
        "collapsed": true,
        "id": "m2I0JGJWRRNR",
        "colab_type": "text"
      },
      "source": [
        "![](https://www.reno.gov/Home/ShowImage?id=7739&t=635620964226970000)\n",
        "\n",
        "**Competition Description from Kaggle**  \n",
        "With 80 explanatory variables describing (almost) every aspect of residential homes in Ames, Iowa in USA, the aim here is to predict the sale price of each home.\n",
        "\n",
        "Therefore, we will practice feature engineering and regression algorithms to achieve the lowest prediction error (RMSE is the metric used in a such competition).\n",
        "\n",
        "- <a href='#1'>1. Exploratory Data Analysis</a>\n",
        "- <a href='#2'>2. Data Cleaning</a>\n",
        "- <a href='#3'>3. Feature Engineering</a>\n",
        "- <a href='#4'>4. Encoding Categorical Features</a>\n",
        "- <a href='#5'>5. Detecting Outliers</a>\n",
        "- <a href='#6'>6. Building Machine Learning Models</a>"
      ]
    },
    {
      "cell_type": "code",
      "metadata": {
        "_cell_guid": "b1076dfc-b9ad-4769-8c92-a6c4dae69d19",
        "_uuid": "8f2839f25d086af736a60e9eeb907d3b93b6e0e5",
        "id": "oWkDlwYORRNT",
        "colab_type": "code",
        "colab": {}
      },
      "source": [
        "import numpy as np # linear algebra\n",
        "import pandas as pd # data processing, CSV file I/O (e.g. pd.read_csv)\n",
        "import matplotlib.pyplot as plt\n",
        "import seaborn as sns\n",
        "sns.set_style('whitegrid')\n",
        "\n",
        "import warnings\n",
        "warnings.simplefilter(action='ignore')"
      ],
      "execution_count": 0,
      "outputs": []
    },
    {
      "cell_type": "markdown",
      "metadata": {
        "id": "lKRdC_rrTtOO",
        "colab_type": "text"
      },
      "source": [
        "Run this cell and select the kaggle.json file downloaded from the Kaggle account settings page."
      ]
    },
    {
      "cell_type": "code",
      "metadata": {
        "id": "CenTSbthTwWL",
        "colab_type": "code",
        "outputId": "b6f8071a-a423-4ca6-eb0c-ad15b1ff3bff",
        "colab": {
          "resources": {
            "http://localhost:8080/nbextensions/google.colab/files.js": {
              "data": "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",
              "ok": true,
              "headers": [
                [
                  "content-type",
                  "application/javascript"
                ]
              ],
              "status": 200,
              "status_text": ""
            }
          },
          "base_uri": "https://localhost:8080/",
          "height": 57
        }
      },
      "source": [
        "from google.colab import files\n",
        "files.upload()"
      ],
      "execution_count": 0,
      "outputs": [
        {
          "output_type": "display_data",
          "data": {
            "text/html": [
              "\n",
              "     <input type=\"file\" id=\"files-3f9b08bb-1182-4ccd-ae7e-69645314f475\" name=\"files[]\" multiple disabled />\n",
              "     <output id=\"result-3f9b08bb-1182-4ccd-ae7e-69645314f475\">\n",
              "      Upload widget is only available when the cell has been executed in the\n",
              "      current browser session. Please rerun this cell to enable.\n",
              "      </output>\n",
              "      <script src=\"/nbextensions/google.colab/files.js\"></script> "
            ],
            "text/plain": [
              "<IPython.core.display.HTML object>"
            ]
          },
          "metadata": {
            "tags": []
          }
        },
        {
          "output_type": "execute_result",
          "data": {
            "text/plain": [
              "{}"
            ]
          },
          "metadata": {
            "tags": []
          },
          "execution_count": 60
        }
      ]
    },
    {
      "cell_type": "markdown",
      "metadata": {
        "id": "BL_tbFkhT29S",
        "colab_type": "text"
      },
      "source": [
        "Let's make sure the kaggle.json file is present."
      ]
    },
    {
      "cell_type": "code",
      "metadata": {
        "id": "Vdb-X1GjT8NS",
        "colab_type": "code",
        "outputId": "340977da-5caa-4fad-fe0a-214e3fc9c82f",
        "colab": {
          "base_uri": "https://localhost:8080/",
          "height": 34
        }
      },
      "source": [
        "!ls -lha kaggle.json"
      ],
      "execution_count": 0,
      "outputs": [
        {
          "output_type": "stream",
          "text": [
            "-rw-r--r-- 1 root root 64 Jan  8 13:19 kaggle.json\n"
          ],
          "name": "stdout"
        }
      ]
    },
    {
      "cell_type": "markdown",
      "metadata": {
        "id": "JlC2AX-lUEwu",
        "colab_type": "text"
      },
      "source": [
        "Next, install the Kaggle API client."
      ]
    },
    {
      "cell_type": "code",
      "metadata": {
        "id": "sOnOSDgmUFrz",
        "colab_type": "code",
        "colab": {}
      },
      "source": [
        "!pip install -q kaggle"
      ],
      "execution_count": 0,
      "outputs": []
    },
    {
      "cell_type": "markdown",
      "metadata": {
        "id": "7EGdb0NjUJ4i",
        "colab_type": "text"
      },
      "source": [
        "The Kaggle API client expects this file to be in ~/.kaggle, so move it there."
      ]
    },
    {
      "cell_type": "code",
      "metadata": {
        "id": "ymGcbPnWUPkH",
        "colab_type": "code",
        "outputId": "b69593c6-9758-43cd-831e-df6845b6c3b0",
        "colab": {
          "base_uri": "https://localhost:8080/",
          "height": 34
        }
      },
      "source": [
        "!mkdir -p ~/.kaggle\n",
        "!cp kaggle.json ~/.kaggle/\n",
        "!ls ~/.kaggle"
      ],
      "execution_count": 0,
      "outputs": [
        {
          "output_type": "stream",
          "text": [
            "kaggle.json\n"
          ],
          "name": "stdout"
        }
      ]
    },
    {
      "cell_type": "markdown",
      "metadata": {
        "id": "-1HndqxFURKU",
        "colab_type": "text"
      },
      "source": [
        "This permission change avoids a warning on Kaggle tool startup."
      ]
    },
    {
      "cell_type": "code",
      "metadata": {
        "id": "pnVgQ8GuUUaL",
        "colab_type": "code",
        "colab": {}
      },
      "source": [
        "!chmod 600 ~/.kaggle/kaggle.json"
      ],
      "execution_count": 0,
      "outputs": []
    },
    {
      "cell_type": "markdown",
      "metadata": {
        "id": "HzWh2tZeUXQX",
        "colab_type": "text"
      },
      "source": [
        "Download the dataset from Kaggle by copying the API datasets here"
      ]
    },
    {
      "cell_type": "code",
      "metadata": {
        "id": "5SLoRKy4UaW_",
        "colab_type": "code",
        "outputId": "2993b6a5-f405-4af1-caa4-9aa984f2dcbe",
        "colab": {
          "base_uri": "https://localhost:8080/",
          "height": 238
        }
      },
      "source": [
        "!kaggle competitions download -c house-prices-advanced-regression-techniques"
      ],
      "execution_count": 0,
      "outputs": [
        {
          "output_type": "stream",
          "text": [
            "Warning: Looks like you're using an outdated API Version, please consider updating (server 1.5.6 / client 1.5.4)\n",
            "Downloading sample_submission.csv to /content\n",
            "  0% 0.00/31.2k [00:00<?, ?B/s]\n",
            "100% 31.2k/31.2k [00:00<00:00, 27.0MB/s]\n",
            "Downloading data_description.txt to /content\n",
            "  0% 0.00/13.1k [00:00<?, ?B/s]\n",
            "100% 13.1k/13.1k [00:00<00:00, 13.2MB/s]\n",
            "Downloading train.csv to /content\n",
            "  0% 0.00/450k [00:00<?, ?B/s]\n",
            "100% 450k/450k [00:00<00:00, 61.2MB/s]\n",
            "Downloading test.csv to /content\n",
            "  0% 0.00/441k [00:00<?, ?B/s]\n",
            "100% 441k/441k [00:00<00:00, 61.6MB/s]\n"
          ],
          "name": "stdout"
        }
      ]
    },
    {
      "cell_type": "markdown",
      "metadata": {
        "id": "Hybu48azRRNZ",
        "colab_type": "text"
      },
      "source": [
        "# <a id='1'>1. Exploratory Data Analysis</a>"
      ]
    },
    {
      "cell_type": "code",
      "metadata": {
        "id": "Hw1QSMKURRNZ",
        "colab_type": "code",
        "outputId": "fd06b2e8-723e-4ccb-f02a-a42fb73c9f7a",
        "colab": {
          "base_uri": "https://localhost:8080/",
          "height": 68
        }
      },
      "source": [
        "a = pd.read_csv('/content/train.csv')\n",
        "b = pd.read_csv('/content/test.csv')\n",
        "\n",
        "print('The shape of the training set:', a.shape[0], 'houses and', a.shape[1], 'features.')\n",
        "print('The shape of the testing set:', b.shape[0], 'houses and', b.shape[1], 'features.')\n",
        "print('The testing set has 1 feature less than the training set which is the target (SalePrice) to predict.')"
      ],
      "execution_count": 0,
      "outputs": [
        {
          "output_type": "stream",
          "text": [
            "The shape of the training set: 1460 houses and 81 features.\n",
            "The shape of the testing set: 1459 houses and 80 features.\n",
            "The testing set has 1 feature less than the training set which is the target (SalePrice) to predict.\n"
          ],
          "name": "stdout"
        }
      ]
    },
    {
      "cell_type": "markdown",
      "metadata": {
        "id": "pbEefX-SRRNc",
        "colab_type": "text"
      },
      "source": [
        "Here is a glimpse of what we will be dealing with:\n",
        "* Many features, \n",
        "* Many missing values, \n",
        "* One target feature: ``SalePrice`` which is the price of the houses we are supposed to predict."
      ]
    },
    {
      "cell_type": "code",
      "metadata": {
        "id": "Ejwy1KmuRRNd",
        "colab_type": "code",
        "outputId": "64ba1f72-0582-479c-a603-a0c29390d34e",
        "colab": {
          "base_uri": "https://localhost:8080/",
          "height": 253
        }
      },
      "source": [
        "a.head()"
      ],
      "execution_count": 0,
      "outputs": [
        {
          "output_type": "execute_result",
          "data": {
            "text/html": [
              "<div>\n",
              "<style scoped>\n",
              "    .dataframe tbody tr th:only-of-type {\n",
              "        vertical-align: middle;\n",
              "    }\n",
              "\n",
              "    .dataframe tbody tr th {\n",
              "        vertical-align: top;\n",
              "    }\n",
              "\n",
              "    .dataframe thead th {\n",
              "        text-align: right;\n",
              "    }\n",
              "</style>\n",
              "<table border=\"1\" class=\"dataframe\">\n",
              "  <thead>\n",
              "    <tr style=\"text-align: right;\">\n",
              "      <th></th>\n",
              "      <th>Id</th>\n",
              "      <th>MSSubClass</th>\n",
              "      <th>MSZoning</th>\n",
              "      <th>LotFrontage</th>\n",
              "      <th>LotArea</th>\n",
              "      <th>Street</th>\n",
              "      <th>Alley</th>\n",
              "      <th>LotShape</th>\n",
              "      <th>LandContour</th>\n",
              "      <th>Utilities</th>\n",
              "      <th>LotConfig</th>\n",
              "      <th>LandSlope</th>\n",
              "      <th>Neighborhood</th>\n",
              "      <th>Condition1</th>\n",
              "      <th>Condition2</th>\n",
              "      <th>BldgType</th>\n",
              "      <th>HouseStyle</th>\n",
              "      <th>OverallQual</th>\n",
              "      <th>OverallCond</th>\n",
              "      <th>YearBuilt</th>\n",
              "      <th>YearRemodAdd</th>\n",
              "      <th>RoofStyle</th>\n",
              "      <th>RoofMatl</th>\n",
              "      <th>Exterior1st</th>\n",
              "      <th>Exterior2nd</th>\n",
              "      <th>MasVnrType</th>\n",
              "      <th>MasVnrArea</th>\n",
              "      <th>ExterQual</th>\n",
              "      <th>ExterCond</th>\n",
              "      <th>Foundation</th>\n",
              "      <th>BsmtQual</th>\n",
              "      <th>BsmtCond</th>\n",
              "      <th>BsmtExposure</th>\n",
              "      <th>BsmtFinType1</th>\n",
              "      <th>BsmtFinSF1</th>\n",
              "      <th>BsmtFinType2</th>\n",
              "      <th>BsmtFinSF2</th>\n",
              "      <th>BsmtUnfSF</th>\n",
              "      <th>TotalBsmtSF</th>\n",
              "      <th>Heating</th>\n",
              "      <th>...</th>\n",
              "      <th>CentralAir</th>\n",
              "      <th>Electrical</th>\n",
              "      <th>1stFlrSF</th>\n",
              "      <th>2ndFlrSF</th>\n",
              "      <th>LowQualFinSF</th>\n",
              "      <th>GrLivArea</th>\n",
              "      <th>BsmtFullBath</th>\n",
              "      <th>BsmtHalfBath</th>\n",
              "      <th>FullBath</th>\n",
              "      <th>HalfBath</th>\n",
              "      <th>BedroomAbvGr</th>\n",
              "      <th>KitchenAbvGr</th>\n",
              "      <th>KitchenQual</th>\n",
              "      <th>TotRmsAbvGrd</th>\n",
              "      <th>Functional</th>\n",
              "      <th>Fireplaces</th>\n",
              "      <th>FireplaceQu</th>\n",
              "      <th>GarageType</th>\n",
              "      <th>GarageYrBlt</th>\n",
              "      <th>GarageFinish</th>\n",
              "      <th>GarageCars</th>\n",
              "      <th>GarageArea</th>\n",
              "      <th>GarageQual</th>\n",
              "      <th>GarageCond</th>\n",
              "      <th>PavedDrive</th>\n",
              "      <th>WoodDeckSF</th>\n",
              "      <th>OpenPorchSF</th>\n",
              "      <th>EnclosedPorch</th>\n",
              "      <th>3SsnPorch</th>\n",
              "      <th>ScreenPorch</th>\n",
              "      <th>PoolArea</th>\n",
              "      <th>PoolQC</th>\n",
              "      <th>Fence</th>\n",
              "      <th>MiscFeature</th>\n",
              "      <th>MiscVal</th>\n",
              "      <th>MoSold</th>\n",
              "      <th>YrSold</th>\n",
              "      <th>SaleType</th>\n",
              "      <th>SaleCondition</th>\n",
              "      <th>SalePrice</th>\n",
              "    </tr>\n",
              "  </thead>\n",
              "  <tbody>\n",
              "    <tr>\n",
              "      <th>0</th>\n",
              "      <td>1</td>\n",
              "      <td>60</td>\n",
              "      <td>RL</td>\n",
              "      <td>65.0</td>\n",
              "      <td>8450</td>\n",
              "      <td>Pave</td>\n",
              "      <td>NaN</td>\n",
              "      <td>Reg</td>\n",
              "      <td>Lvl</td>\n",
              "      <td>AllPub</td>\n",
              "      <td>Inside</td>\n",
              "      <td>Gtl</td>\n",
              "      <td>CollgCr</td>\n",
              "      <td>Norm</td>\n",
              "      <td>Norm</td>\n",
              "      <td>1Fam</td>\n",
              "      <td>2Story</td>\n",
              "      <td>7</td>\n",
              "      <td>5</td>\n",
              "      <td>2003</td>\n",
              "      <td>2003</td>\n",
              "      <td>Gable</td>\n",
              "      <td>CompShg</td>\n",
              "      <td>VinylSd</td>\n",
              "      <td>VinylSd</td>\n",
              "      <td>BrkFace</td>\n",
              "      <td>196.0</td>\n",
              "      <td>Gd</td>\n",
              "      <td>TA</td>\n",
              "      <td>PConc</td>\n",
              "      <td>Gd</td>\n",
              "      <td>TA</td>\n",
              "      <td>No</td>\n",
              "      <td>GLQ</td>\n",
              "      <td>706</td>\n",
              "      <td>Unf</td>\n",
              "      <td>0</td>\n",
              "      <td>150</td>\n",
              "      <td>856</td>\n",
              "      <td>GasA</td>\n",
              "      <td>...</td>\n",
              "      <td>Y</td>\n",
              "      <td>SBrkr</td>\n",
              "      <td>856</td>\n",
              "      <td>854</td>\n",
              "      <td>0</td>\n",
              "      <td>1710</td>\n",
              "      <td>1</td>\n",
              "      <td>0</td>\n",
              "      <td>2</td>\n",
              "      <td>1</td>\n",
              "      <td>3</td>\n",
              "      <td>1</td>\n",
              "      <td>Gd</td>\n",
              "      <td>8</td>\n",
              "      <td>Typ</td>\n",
              "      <td>0</td>\n",
              "      <td>NaN</td>\n",
              "      <td>Attchd</td>\n",
              "      <td>2003.0</td>\n",
              "      <td>RFn</td>\n",
              "      <td>2</td>\n",
              "      <td>548</td>\n",
              "      <td>TA</td>\n",
              "      <td>TA</td>\n",
              "      <td>Y</td>\n",
              "      <td>0</td>\n",
              "      <td>61</td>\n",
              "      <td>0</td>\n",
              "      <td>0</td>\n",
              "      <td>0</td>\n",
              "      <td>0</td>\n",
              "      <td>NaN</td>\n",
              "      <td>NaN</td>\n",
              "      <td>NaN</td>\n",
              "      <td>0</td>\n",
              "      <td>2</td>\n",
              "      <td>2008</td>\n",
              "      <td>WD</td>\n",
              "      <td>Normal</td>\n",
              "      <td>208500</td>\n",
              "    </tr>\n",
              "    <tr>\n",
              "      <th>1</th>\n",
              "      <td>2</td>\n",
              "      <td>20</td>\n",
              "      <td>RL</td>\n",
              "      <td>80.0</td>\n",
              "      <td>9600</td>\n",
              "      <td>Pave</td>\n",
              "      <td>NaN</td>\n",
              "      <td>Reg</td>\n",
              "      <td>Lvl</td>\n",
              "      <td>AllPub</td>\n",
              "      <td>FR2</td>\n",
              "      <td>Gtl</td>\n",
              "      <td>Veenker</td>\n",
              "      <td>Feedr</td>\n",
              "      <td>Norm</td>\n",
              "      <td>1Fam</td>\n",
              "      <td>1Story</td>\n",
              "      <td>6</td>\n",
              "      <td>8</td>\n",
              "      <td>1976</td>\n",
              "      <td>1976</td>\n",
              "      <td>Gable</td>\n",
              "      <td>CompShg</td>\n",
              "      <td>MetalSd</td>\n",
              "      <td>MetalSd</td>\n",
              "      <td>None</td>\n",
              "      <td>0.0</td>\n",
              "      <td>TA</td>\n",
              "      <td>TA</td>\n",
              "      <td>CBlock</td>\n",
              "      <td>Gd</td>\n",
              "      <td>TA</td>\n",
              "      <td>Gd</td>\n",
              "      <td>ALQ</td>\n",
              "      <td>978</td>\n",
              "      <td>Unf</td>\n",
              "      <td>0</td>\n",
              "      <td>284</td>\n",
              "      <td>1262</td>\n",
              "      <td>GasA</td>\n",
              "      <td>...</td>\n",
              "      <td>Y</td>\n",
              "      <td>SBrkr</td>\n",
              "      <td>1262</td>\n",
              "      <td>0</td>\n",
              "      <td>0</td>\n",
              "      <td>1262</td>\n",
              "      <td>0</td>\n",
              "      <td>1</td>\n",
              "      <td>2</td>\n",
              "      <td>0</td>\n",
              "      <td>3</td>\n",
              "      <td>1</td>\n",
              "      <td>TA</td>\n",
              "      <td>6</td>\n",
              "      <td>Typ</td>\n",
              "      <td>1</td>\n",
              "      <td>TA</td>\n",
              "      <td>Attchd</td>\n",
              "      <td>1976.0</td>\n",
              "      <td>RFn</td>\n",
              "      <td>2</td>\n",
              "      <td>460</td>\n",
              "      <td>TA</td>\n",
              "      <td>TA</td>\n",
              "      <td>Y</td>\n",
              "      <td>298</td>\n",
              "      <td>0</td>\n",
              "      <td>0</td>\n",
              "      <td>0</td>\n",
              "      <td>0</td>\n",
              "      <td>0</td>\n",
              "      <td>NaN</td>\n",
              "      <td>NaN</td>\n",
              "      <td>NaN</td>\n",
              "      <td>0</td>\n",
              "      <td>5</td>\n",
              "      <td>2007</td>\n",
              "      <td>WD</td>\n",
              "      <td>Normal</td>\n",
              "      <td>181500</td>\n",
              "    </tr>\n",
              "    <tr>\n",
              "      <th>2</th>\n",
              "      <td>3</td>\n",
              "      <td>60</td>\n",
              "      <td>RL</td>\n",
              "      <td>68.0</td>\n",
              "      <td>11250</td>\n",
              "      <td>Pave</td>\n",
              "      <td>NaN</td>\n",
              "      <td>IR1</td>\n",
              "      <td>Lvl</td>\n",
              "      <td>AllPub</td>\n",
              "      <td>Inside</td>\n",
              "      <td>Gtl</td>\n",
              "      <td>CollgCr</td>\n",
              "      <td>Norm</td>\n",
              "      <td>Norm</td>\n",
              "      <td>1Fam</td>\n",
              "      <td>2Story</td>\n",
              "      <td>7</td>\n",
              "      <td>5</td>\n",
              "      <td>2001</td>\n",
              "      <td>2002</td>\n",
              "      <td>Gable</td>\n",
              "      <td>CompShg</td>\n",
              "      <td>VinylSd</td>\n",
              "      <td>VinylSd</td>\n",
              "      <td>BrkFace</td>\n",
              "      <td>162.0</td>\n",
              "      <td>Gd</td>\n",
              "      <td>TA</td>\n",
              "      <td>PConc</td>\n",
              "      <td>Gd</td>\n",
              "      <td>TA</td>\n",
              "      <td>Mn</td>\n",
              "      <td>GLQ</td>\n",
              "      <td>486</td>\n",
              "      <td>Unf</td>\n",
              "      <td>0</td>\n",
              "      <td>434</td>\n",
              "      <td>920</td>\n",
              "      <td>GasA</td>\n",
              "      <td>...</td>\n",
              "      <td>Y</td>\n",
              "      <td>SBrkr</td>\n",
              "      <td>920</td>\n",
              "      <td>866</td>\n",
              "      <td>0</td>\n",
              "      <td>1786</td>\n",
              "      <td>1</td>\n",
              "      <td>0</td>\n",
              "      <td>2</td>\n",
              "      <td>1</td>\n",
              "      <td>3</td>\n",
              "      <td>1</td>\n",
              "      <td>Gd</td>\n",
              "      <td>6</td>\n",
              "      <td>Typ</td>\n",
              "      <td>1</td>\n",
              "      <td>TA</td>\n",
              "      <td>Attchd</td>\n",
              "      <td>2001.0</td>\n",
              "      <td>RFn</td>\n",
              "      <td>2</td>\n",
              "      <td>608</td>\n",
              "      <td>TA</td>\n",
              "      <td>TA</td>\n",
              "      <td>Y</td>\n",
              "      <td>0</td>\n",
              "      <td>42</td>\n",
              "      <td>0</td>\n",
              "      <td>0</td>\n",
              "      <td>0</td>\n",
              "      <td>0</td>\n",
              "      <td>NaN</td>\n",
              "      <td>NaN</td>\n",
              "      <td>NaN</td>\n",
              "      <td>0</td>\n",
              "      <td>9</td>\n",
              "      <td>2008</td>\n",
              "      <td>WD</td>\n",
              "      <td>Normal</td>\n",
              "      <td>223500</td>\n",
              "    </tr>\n",
              "    <tr>\n",
              "      <th>3</th>\n",
              "      <td>4</td>\n",
              "      <td>70</td>\n",
              "      <td>RL</td>\n",
              "      <td>60.0</td>\n",
              "      <td>9550</td>\n",
              "      <td>Pave</td>\n",
              "      <td>NaN</td>\n",
              "      <td>IR1</td>\n",
              "      <td>Lvl</td>\n",
              "      <td>AllPub</td>\n",
              "      <td>Corner</td>\n",
              "      <td>Gtl</td>\n",
              "      <td>Crawfor</td>\n",
              "      <td>Norm</td>\n",
              "      <td>Norm</td>\n",
              "      <td>1Fam</td>\n",
              "      <td>2Story</td>\n",
              "      <td>7</td>\n",
              "      <td>5</td>\n",
              "      <td>1915</td>\n",
              "      <td>1970</td>\n",
              "      <td>Gable</td>\n",
              "      <td>CompShg</td>\n",
              "      <td>Wd Sdng</td>\n",
              "      <td>Wd Shng</td>\n",
              "      <td>None</td>\n",
              "      <td>0.0</td>\n",
              "      <td>TA</td>\n",
              "      <td>TA</td>\n",
              "      <td>BrkTil</td>\n",
              "      <td>TA</td>\n",
              "      <td>Gd</td>\n",
              "      <td>No</td>\n",
              "      <td>ALQ</td>\n",
              "      <td>216</td>\n",
              "      <td>Unf</td>\n",
              "      <td>0</td>\n",
              "      <td>540</td>\n",
              "      <td>756</td>\n",
              "      <td>GasA</td>\n",
              "      <td>...</td>\n",
              "      <td>Y</td>\n",
              "      <td>SBrkr</td>\n",
              "      <td>961</td>\n",
              "      <td>756</td>\n",
              "      <td>0</td>\n",
              "      <td>1717</td>\n",
              "      <td>1</td>\n",
              "      <td>0</td>\n",
              "      <td>1</td>\n",
              "      <td>0</td>\n",
              "      <td>3</td>\n",
              "      <td>1</td>\n",
              "      <td>Gd</td>\n",
              "      <td>7</td>\n",
              "      <td>Typ</td>\n",
              "      <td>1</td>\n",
              "      <td>Gd</td>\n",
              "      <td>Detchd</td>\n",
              "      <td>1998.0</td>\n",
              "      <td>Unf</td>\n",
              "      <td>3</td>\n",
              "      <td>642</td>\n",
              "      <td>TA</td>\n",
              "      <td>TA</td>\n",
              "      <td>Y</td>\n",
              "      <td>0</td>\n",
              "      <td>35</td>\n",
              "      <td>272</td>\n",
              "      <td>0</td>\n",
              "      <td>0</td>\n",
              "      <td>0</td>\n",
              "      <td>NaN</td>\n",
              "      <td>NaN</td>\n",
              "      <td>NaN</td>\n",
              "      <td>0</td>\n",
              "      <td>2</td>\n",
              "      <td>2006</td>\n",
              "      <td>WD</td>\n",
              "      <td>Abnorml</td>\n",
              "      <td>140000</td>\n",
              "    </tr>\n",
              "    <tr>\n",
              "      <th>4</th>\n",
              "      <td>5</td>\n",
              "      <td>60</td>\n",
              "      <td>RL</td>\n",
              "      <td>84.0</td>\n",
              "      <td>14260</td>\n",
              "      <td>Pave</td>\n",
              "      <td>NaN</td>\n",
              "      <td>IR1</td>\n",
              "      <td>Lvl</td>\n",
              "      <td>AllPub</td>\n",
              "      <td>FR2</td>\n",
              "      <td>Gtl</td>\n",
              "      <td>NoRidge</td>\n",
              "      <td>Norm</td>\n",
              "      <td>Norm</td>\n",
              "      <td>1Fam</td>\n",
              "      <td>2Story</td>\n",
              "      <td>8</td>\n",
              "      <td>5</td>\n",
              "      <td>2000</td>\n",
              "      <td>2000</td>\n",
              "      <td>Gable</td>\n",
              "      <td>CompShg</td>\n",
              "      <td>VinylSd</td>\n",
              "      <td>VinylSd</td>\n",
              "      <td>BrkFace</td>\n",
              "      <td>350.0</td>\n",
              "      <td>Gd</td>\n",
              "      <td>TA</td>\n",
              "      <td>PConc</td>\n",
              "      <td>Gd</td>\n",
              "      <td>TA</td>\n",
              "      <td>Av</td>\n",
              "      <td>GLQ</td>\n",
              "      <td>655</td>\n",
              "      <td>Unf</td>\n",
              "      <td>0</td>\n",
              "      <td>490</td>\n",
              "      <td>1145</td>\n",
              "      <td>GasA</td>\n",
              "      <td>...</td>\n",
              "      <td>Y</td>\n",
              "      <td>SBrkr</td>\n",
              "      <td>1145</td>\n",
              "      <td>1053</td>\n",
              "      <td>0</td>\n",
              "      <td>2198</td>\n",
              "      <td>1</td>\n",
              "      <td>0</td>\n",
              "      <td>2</td>\n",
              "      <td>1</td>\n",
              "      <td>4</td>\n",
              "      <td>1</td>\n",
              "      <td>Gd</td>\n",
              "      <td>9</td>\n",
              "      <td>Typ</td>\n",
              "      <td>1</td>\n",
              "      <td>TA</td>\n",
              "      <td>Attchd</td>\n",
              "      <td>2000.0</td>\n",
              "      <td>RFn</td>\n",
              "      <td>3</td>\n",
              "      <td>836</td>\n",
              "      <td>TA</td>\n",
              "      <td>TA</td>\n",
              "      <td>Y</td>\n",
              "      <td>192</td>\n",
              "      <td>84</td>\n",
              "      <td>0</td>\n",
              "      <td>0</td>\n",
              "      <td>0</td>\n",
              "      <td>0</td>\n",
              "      <td>NaN</td>\n",
              "      <td>NaN</td>\n",
              "      <td>NaN</td>\n",
              "      <td>0</td>\n",
              "      <td>12</td>\n",
              "      <td>2008</td>\n",
              "      <td>WD</td>\n",
              "      <td>Normal</td>\n",
              "      <td>250000</td>\n",
              "    </tr>\n",
              "  </tbody>\n",
              "</table>\n",
              "<p>5 rows × 81 columns</p>\n",
              "</div>"
            ],
            "text/plain": [
              "   Id  MSSubClass MSZoning  ...  SaleType  SaleCondition SalePrice\n",
              "0   1          60       RL  ...        WD         Normal    208500\n",
              "1   2          20       RL  ...        WD         Normal    181500\n",
              "2   3          60       RL  ...        WD         Normal    223500\n",
              "3   4          70       RL  ...        WD        Abnorml    140000\n",
              "4   5          60       RL  ...        WD         Normal    250000\n",
              "\n",
              "[5 rows x 81 columns]"
            ]
          },
          "metadata": {
            "tags": []
          },
          "execution_count": 10
        }
      ]
    },
    {
      "cell_type": "markdown",
      "metadata": {
        "id": "kr5BKiXmRRNg",
        "colab_type": "text"
      },
      "source": [
        "Let's have a look first at the correlation between numerical features and the target ``SalePrice``, in order to have a first idea of the connections between features.\n",
        "\n",
        "*It is not necessary to include the ``Id`` feature into the analysis!*"
      ]
    },
    {
      "cell_type": "code",
      "metadata": {
        "id": "SzWYkX5nRRNg",
        "colab_type": "code",
        "outputId": "3a9c295e-bb50-4d69-8067-5b6c3606c1b1",
        "colab": {
          "base_uri": "https://localhost:8080/",
          "height": 189
        }
      },
      "source": [
        "num = a.select_dtypes(exclude='object')\n",
        "numcorr = num[num.columns.difference(['Id'])].corr()\n",
        "f, ax = plt.subplots(figsize=(17,1))\n",
        "sns.heatmap(numcorr.sort_values(by=['SalePrice'], ascending=False).head(1), cmap='Blues')\n",
        "plt.title(\"Numerical feature correlations with the SalePrice\", weight='bold', fontsize=18)\n",
        "plt.show()"
      ],
      "execution_count": 0,
      "outputs": [
        {
          "output_type": "display_data",
          "data": {
            "image/png": "[encoded data removed]",
            "text/plain": [
              "<Figure size 1224x72 with 2 Axes>"
            ]
          },
          "metadata": {
            "tags": []
          }
        }
      ]
    },
    {
      "cell_type": "markdown",
      "metadata": {
        "id": "3slJJJ1WRRNj",
        "colab_type": "text"
      },
      "source": [
        "Just by looking at the heatmap above we can see many dark colors. Indeed, many features have high correlation with the target.\n",
        "\n",
        "To have a better idea, we sort the features according to their correlations with the ``SalePrice``."
      ]
    },
    {
      "cell_type": "code",
      "metadata": {
        "id": "NA3LLHc5RRNk",
        "colab_type": "code",
        "colab": {}
      },
      "source": [
        "def stylerfunc(df): \n",
        "    return df.style.background_gradient(cmap=sns.light_palette(\"cyan\", as_cmap=True))"
      ],
      "execution_count": 0,
      "outputs": []
    },
    {
      "cell_type": "code",
      "metadata": {
        "id": "gw2ogF_JRRNq",
        "colab_type": "code",
        "outputId": "fa4e1ac4-9b47-4d49-af8c-6e253e6990a4",
        "colab": {
          "base_uri": "https://localhost:8080/",
          "height": 61
        }
      },
      "source": [
        "stylerfunc(numcorr['SalePrice'].sort_values(ascending=False).head(10).to_frame().T)"
      ],
      "execution_count": 0,
      "outputs": [
        {
          "output_type": "execute_result",
          "data": {
            "text/html": [
              "<style  type=\"text/css\" >\n",
              "    #T_524c81e8_321a_11ea_b2ce_0242ac1c0002row0_col0 {\n",
              "            background-color:  #e5ffff;\n",
              "            color:  #000000;\n",
              "        }    #T_524c81e8_321a_11ea_b2ce_0242ac1c0002row0_col1 {\n",
              "            background-color:  #e5ffff;\n",
              "            color:  #000000;\n",
              "        }    #T_524c81e8_321a_11ea_b2ce_0242ac1c0002row0_col2 {\n",
              "            background-color:  #e5ffff;\n",
              "            color:  #000000;\n",
              "        }    #T_524c81e8_321a_11ea_b2ce_0242ac1c0002row0_col3 {\n",
              "            background-color:  #e5ffff;\n",
              "            color:  #000000;\n",
              "        }    #T_524c81e8_321a_11ea_b2ce_0242ac1c0002row0_col4 {\n",
              "            background-color:  #e5ffff;\n",
              "            color:  #000000;\n",
              "        }    #T_524c81e8_321a_11ea_b2ce_0242ac1c0002row0_col5 {\n",
              "            background-color:  #e5ffff;\n",
              "            color:  #000000;\n",
              "        }    #T_524c81e8_321a_11ea_b2ce_0242ac1c0002row0_col6 {\n",
              "            background-color:  #e5ffff;\n",
              "            color:  #000000;\n",
              "        }    #T_524c81e8_321a_11ea_b2ce_0242ac1c0002row0_col7 {\n",
              "            background-color:  #e5ffff;\n",
              "            color:  #000000;\n",
              "        }    #T_524c81e8_321a_11ea_b2ce_0242ac1c0002row0_col8 {\n",
              "            background-color:  #e5ffff;\n",
              "            color:  #000000;\n",
              "        }    #T_524c81e8_321a_11ea_b2ce_0242ac1c0002row0_col9 {\n",
              "            background-color:  #e5ffff;\n",
              "            color:  #000000;\n",
              "        }</style><table id=\"T_524c81e8_321a_11ea_b2ce_0242ac1c0002\" ><thead>    <tr>        <th class=\"blank level0\" ></th>        <th class=\"col_heading level0 col0\" >SalePrice</th>        <th class=\"col_heading level0 col1\" >OverallQual</th>        <th class=\"col_heading level0 col2\" >GrLivArea</th>        <th class=\"col_heading level0 col3\" >GarageCars</th>        <th class=\"col_heading level0 col4\" >GarageArea</th>        <th class=\"col_heading level0 col5\" >TotalBsmtSF</th>        <th class=\"col_heading level0 col6\" >1stFlrSF</th>        <th class=\"col_heading level0 col7\" >FullBath</th>        <th class=\"col_heading level0 col8\" >TotRmsAbvGrd</th>        <th class=\"col_heading level0 col9\" >YearBuilt</th>    </tr></thead><tbody>\n",
              "                <tr>\n",
              "                        <th id=\"T_524c81e8_321a_11ea_b2ce_0242ac1c0002level0_row0\" class=\"row_heading level0 row0\" >SalePrice</th>\n",
              "                        <td id=\"T_524c81e8_321a_11ea_b2ce_0242ac1c0002row0_col0\" class=\"data row0 col0\" >1</td>\n",
              "                        <td id=\"T_524c81e8_321a_11ea_b2ce_0242ac1c0002row0_col1\" class=\"data row0 col1\" >0.790982</td>\n",
              "                        <td id=\"T_524c81e8_321a_11ea_b2ce_0242ac1c0002row0_col2\" class=\"data row0 col2\" >0.708624</td>\n",
              "                        <td id=\"T_524c81e8_321a_11ea_b2ce_0242ac1c0002row0_col3\" class=\"data row0 col3\" >0.640409</td>\n",
              "                        <td id=\"T_524c81e8_321a_11ea_b2ce_0242ac1c0002row0_col4\" class=\"data row0 col4\" >0.623431</td>\n",
              "                        <td id=\"T_524c81e8_321a_11ea_b2ce_0242ac1c0002row0_col5\" class=\"data row0 col5\" >0.613581</td>\n",
              "                        <td id=\"T_524c81e8_321a_11ea_b2ce_0242ac1c0002row0_col6\" class=\"data row0 col6\" >0.605852</td>\n",
              "                        <td id=\"T_524c81e8_321a_11ea_b2ce_0242ac1c0002row0_col7\" class=\"data row0 col7\" >0.560664</td>\n",
              "                        <td id=\"T_524c81e8_321a_11ea_b2ce_0242ac1c0002row0_col8\" class=\"data row0 col8\" >0.533723</td>\n",
              "                        <td id=\"T_524c81e8_321a_11ea_b2ce_0242ac1c0002row0_col9\" class=\"data row0 col9\" >0.522897</td>\n",
              "            </tr>\n",
              "    </tbody></table>"
            ],
            "text/plain": [
              "<pandas.io.formats.style.Styler at 0x7f843ea5d588>"
            ]
          },
          "metadata": {
            "tags": []
          },
          "execution_count": 14
        }
      ]
    },
    {
      "cell_type": "markdown",
      "metadata": {
        "id": "wTdBH7F_RRNt",
        "colab_type": "text"
      },
      "source": [
        "The **overall quality**, **the living area, basement area, garage cars and garage area** have the highest correlation values with the sale price, which is logical, better quality and bigger area = Higher price.\n",
        "* Also some features such as, **full bath** or **1st floor surface** have a higher correlation, those are luxury features, more luxury = Higher price.\n",
        "* and **Year built**, the newer buildings seem to have higher sale prices.\n",
        "\n",
        "Let's dig in more into the data, those are just the numerical features. I assume that categorical features will be very important, for example, the neighborhood feature will be important, maybe the most important, given that good locations nowadays cost good money.\n",
        "\n",
        "But before going any further, we start by cleaning the data from missing values. For this, let's investigate and identify features with missing values."
      ]
    },
    {
      "cell_type": "code",
      "metadata": {
        "id": "pTe9A4ohRRNu",
        "colab_type": "code",
        "colab": {}
      },
      "source": [
        "def mvrateplot(df, title):\n",
        "    df = df.drop(df[df == 0].index).sort_values(ascending=True)\n",
        "    plt.figure(figsize=(10, 6))\n",
        "    df.plot.barh(color='purple')\n",
        "    plt.title(title, fontsize=20, weight='bold' )\n",
        "    plt.show()"
      ],
      "execution_count": 0,
      "outputs": []
    },
    {
      "cell_type": "code",
      "metadata": {
        "id": "3eWXEg9wRRNw",
        "colab_type": "code",
        "outputId": "226528cf-762e-4d44-9929-99fa1b91d865",
        "colab": {
          "base_uri": "https://localhost:8080/",
          "height": 395
        }
      },
      "source": [
        "mvrateplot(a.isnull().mean(),'Missing value average per feature: Train set')"
      ],
      "execution_count": 0,
      "outputs": [
        {
          "output_type": "display_data",
          "data": {
            "image/png": "[encoded data removed]",
            "text/plain": [
              "<Figure size 720x432 with 1 Axes>"
            ]
          },
          "metadata": {
            "tags": []
          }
        }
      ]
    },
    {
      "cell_type": "code",
      "metadata": {
        "id": "n_s_g7gwRRNy",
        "colab_type": "code",
        "outputId": "0c2e59d4-347d-44f5-bd1d-2d124af173ee",
        "colab": {
          "base_uri": "https://localhost:8080/",
          "height": 395
        }
      },
      "source": [
        "mvrateplot(b.isnull().mean(),'Missing value average per feature: Test set')"
      ],
      "execution_count": 0,
      "outputs": [
        {
          "output_type": "display_data",
          "data": {
            "image/png": "[encoded data removed]",
            "text/plain": [
              "<Figure size 720x432 with 1 Axes>"
            ]
          },
          "metadata": {
            "tags": []
          }
        }
      ]
    },
    {
      "cell_type": "markdown",
      "metadata": {
        "id": "cCHWcf9fRRN0",
        "colab_type": "text"
      },
      "source": [
        "> Most of the features are clean from missing values\n",
        "\n",
        "**We combine first the train and test datasets to run all the data munging and applying feature engineering on both of them.**"
      ]
    },
    {
      "cell_type": "code",
      "metadata": {
        "id": "oFyTMkioRRN1",
        "colab_type": "code",
        "outputId": "f3818ee7-b306-41e2-f87a-38c52c152762",
        "colab": {
          "base_uri": "https://localhost:8080/",
          "height": 34
        }
      },
      "source": [
        "trainsize = a.shape[0] # the length of the train raw data set\n",
        "testsize = b.shape[0]  # the length of the test raw data set\n",
        "y_train = a['SalePrice'].to_frame()\n",
        "#Combine train and test sets\n",
        "c = pd.concat((a, b), sort=False).reset_index(drop=True)\n",
        "c.name = 'c'\n",
        "#Drop the target \"SalePrice\" and Id columns\n",
        "c.drop(['SalePrice'], axis=1, inplace=True)\n",
        "c.drop(['Id'], axis=1, inplace=True)\n",
        "print(f\"Total size of the combined dataframe {c.name} is:\", c.shape)\n",
        "oldlen = c.shape[1]\n",
        "oldset = set(c)"
      ],
      "execution_count": 0,
      "outputs": [
        {
          "output_type": "stream",
          "text": [
            "Total size of the combined dataframe c is: (2919, 79)\n"
          ],
          "name": "stdout"
        }
      ]
    },
    {
      "cell_type": "markdown",
      "metadata": {
        "id": "EMxPgCn8RRN5",
        "colab_type": "text"
      },
      "source": [
        "# <a id='2'>2. Data Cleaning</a>\n",
        "\n",
        "> First thing to do is get rid of the features with more than 90% missing values. For example the PoolQC's missing values are probably due to the lack of pools in some buildings, which is very logical. But replacing those (more than 90%) missing values with \"no pool\" will leave us with a feature with low variance, and low variance features are uniformative for machine learning models. So we drop the features with more than 90% missing values."
      ]
    },
    {
      "cell_type": "code",
      "metadata": {
        "id": "UX6Jsez3RRN6",
        "colab_type": "code",
        "outputId": "2d0ae0a9-69aa-43ce-c484-0b5f08f1eb38",
        "colab": {
          "base_uri": "https://localhost:8080/",
          "height": 68
        }
      },
      "source": [
        "c = c.dropna(thresh = len(c)*0.9, axis=1)\n",
        "c.name = 'c'\n",
        "print(oldlen-c.shape[1], 'features with each more than 90% of missing values are dropped from the combined dataset.')\n",
        "print('The dropped features are:', list(oldset-set(c)))\n",
        "print(f\"--> Total size of the combined dataset {c.name} after dropping features with more than 90% M.V.:\",c.shape)"
      ],
      "execution_count": 0,
      "outputs": [
        {
          "output_type": "stream",
          "text": [
            "6 features with each more than 90% of missing values are dropped from the combined dataset.\n",
            "The dropped features are: ['MiscFeature', 'Fence', 'Alley', 'LotFrontage', 'FireplaceQu', 'PoolQC']\n",
            "--> Total size of the combined dataset c after dropping features with more than 90% M.V.: (2919, 73)\n"
          ],
          "name": "stdout"
        }
      ]
    },
    {
      "cell_type": "markdown",
      "metadata": {
        "id": "gUCaiWuURRN9",
        "colab_type": "text"
      },
      "source": [
        "Before cleaning the data, we zoom at the features with missing values which won't be treated iqually. Some features have barely 1 or 2 missing values, we will use the forward fill method to fill them."
      ]
    },
    {
      "cell_type": "code",
      "metadata": {
        "id": "aU_MCwKzRRN9",
        "colab_type": "code",
        "outputId": "4559104a-e1e6-4321-fc51-117b1be8187a",
        "colab": {
          "base_uri": "https://localhost:8080/",
          "height": 395
        }
      },
      "source": [
        "mvrateplot((c.isnull().sum()/len(c)), 'Missing value average per feature')"
      ],
      "execution_count": 0,
      "outputs": [
        {
          "output_type": "display_data",
          "data": {
            "image/png": "[encoded data removed]",
            "text/plain": [
              "<Figure size 720x432 with 1 Axes>"
            ]
          },
          "metadata": {
            "tags": []
          }
        }
      ]
    },
    {
      "cell_type": "markdown",
      "metadata": {
        "id": "ABwS95_IRROA",
        "colab_type": "text"
      },
      "source": [
        "We isolate the missing values from the rest of the dataset to have a good idea of how to treat them. \n",
        "\n",
        "Let's create a NA dataframe composed of only features with M.V. Then, we split them to:\n",
        "* Categorical features\n",
        "* Numerical features"
      ]
    },
    {
      "cell_type": "code",
      "metadata": {
        "id": "QPWrmukyRROA",
        "colab_type": "code",
        "outputId": "7e041b78-0571-4952-9d84-17048e27ac85",
        "colab": {
          "base_uri": "https://localhost:8080/",
          "height": 51
        }
      },
      "source": [
        "allna = (c.isnull().sum()/len(c))\n",
        "allna = allna.drop(allna[allna == 0].index).sort_values(ascending=False)\n",
        "\n",
        "NA = c[allna.index]\n",
        "NAcat = NA.select_dtypes(include='object')\n",
        "NAnum = NA.select_dtypes(exclude='object')\n",
        "print(f'There are {NAcat.shape[1]} categorical features with missing values')\n",
        "print(f'There are {NAnum.shape[1]} numerical features with missing values')"
      ],
      "execution_count": 0,
      "outputs": [
        {
          "output_type": "stream",
          "text": [
            "There are 18 categorical features with missing values\n",
            "There are 10 numerical features with missing values\n"
          ],
          "name": "stdout"
        }
      ]
    },
    {
      "cell_type": "markdown",
      "metadata": {
        "id": "QKhlxPQORROD",
        "colab_type": "text"
      },
      "source": [
        "As we can see, there are 18 categorical features and 10 numerical features to clean.\n",
        "\n",
        "We start with the numerical features. First thing to do is to have a look at them to learn more about their distribution and decide how to clean them:\n",
        "- Most of the features are going to be filled with 0s because we assume that they don't exist, for example GarageArea, GarageCars with missing values are simply because the house lacks a garage.\n",
        "- GarageYrBlt: Year garage was built can't be filled with 0s, so we fill with the median (1979)."
      ]
    },
    {
      "cell_type": "code",
      "metadata": {
        "id": "qNxIQ1BfRROE",
        "colab_type": "code",
        "outputId": "dfca2417-191a-4cb7-ca39-1c97d5d46536",
        "colab": {
          "base_uri": "https://localhost:8080/",
          "height": 204
        }
      },
      "source": [
        "NAnum.head()"
      ],
      "execution_count": 0,
      "outputs": [
        {
          "output_type": "execute_result",
          "data": {
            "text/html": [
              "<div>\n",
              "<style scoped>\n",
              "    .dataframe tbody tr th:only-of-type {\n",
              "        vertical-align: middle;\n",
              "    }\n",
              "\n",
              "    .dataframe tbody tr th {\n",
              "        vertical-align: top;\n",
              "    }\n",
              "\n",
              "    .dataframe thead th {\n",
              "        text-align: right;\n",
              "    }\n",
              "</style>\n",
              "<table border=\"1\" class=\"dataframe\">\n",
              "  <thead>\n",
              "    <tr style=\"text-align: right;\">\n",
              "      <th></th>\n",
              "      <th>GarageYrBlt</th>\n",
              "      <th>MasVnrArea</th>\n",
              "      <th>BsmtFullBath</th>\n",
              "      <th>BsmtHalfBath</th>\n",
              "      <th>BsmtFinSF1</th>\n",
              "      <th>BsmtFinSF2</th>\n",
              "      <th>TotalBsmtSF</th>\n",
              "      <th>GarageCars</th>\n",
              "      <th>GarageArea</th>\n",
              "      <th>BsmtUnfSF</th>\n",
              "    </tr>\n",
              "  </thead>\n",
              "  <tbody>\n",
              "    <tr>\n",
              "      <th>0</th>\n",
              "      <td>2003.0</td>\n",
              "      <td>196.0</td>\n",
              "      <td>1.0</td>\n",
              "      <td>0.0</td>\n",
              "      <td>706.0</td>\n",
              "      <td>0.0</td>\n",
              "      <td>856.0</td>\n",
              "      <td>2.0</td>\n",
              "      <td>548.0</td>\n",
              "      <td>150.0</td>\n",
              "    </tr>\n",
              "    <tr>\n",
              "      <th>1</th>\n",
              "      <td>1976.0</td>\n",
              "      <td>0.0</td>\n",
              "      <td>0.0</td>\n",
              "      <td>1.0</td>\n",
              "      <td>978.0</td>\n",
              "      <td>0.0</td>\n",
              "      <td>1262.0</td>\n",
              "      <td>2.0</td>\n",
              "      <td>460.0</td>\n",
              "      <td>284.0</td>\n",
              "    </tr>\n",
              "    <tr>\n",
              "      <th>2</th>\n",
              "      <td>2001.0</td>\n",
              "      <td>162.0</td>\n",
              "      <td>1.0</td>\n",
              "      <td>0.0</td>\n",
              "      <td>486.0</td>\n",
              "      <td>0.0</td>\n",
              "      <td>920.0</td>\n",
              "      <td>2.0</td>\n",
              "      <td>608.0</td>\n",
              "      <td>434.0</td>\n",
              "    </tr>\n",
              "    <tr>\n",
              "      <th>3</th>\n",
              "      <td>1998.0</td>\n",
              "      <td>0.0</td>\n",
              "      <td>1.0</td>\n",
              "      <td>0.0</td>\n",
              "      <td>216.0</td>\n",
              "      <td>0.0</td>\n",
              "      <td>756.0</td>\n",
              "      <td>3.0</td>\n",
              "      <td>642.0</td>\n",
              "      <td>540.0</td>\n",
              "    </tr>\n",
              "    <tr>\n",
              "      <th>4</th>\n",
              "      <td>2000.0</td>\n",
              "      <td>350.0</td>\n",
              "      <td>1.0</td>\n",
              "      <td>0.0</td>\n",
              "      <td>655.0</td>\n",
              "      <td>0.0</td>\n",
              "      <td>1145.0</td>\n",
              "      <td>3.0</td>\n",
              "      <td>836.0</td>\n",
              "      <td>490.0</td>\n",
              "    </tr>\n",
              "  </tbody>\n",
              "</table>\n",
              "</div>"
            ],
            "text/plain": [
              "   GarageYrBlt  MasVnrArea  BsmtFullBath  ...  GarageCars  GarageArea  BsmtUnfSF\n",
              "0       2003.0       196.0           1.0  ...         2.0       548.0      150.0\n",
              "1       1976.0         0.0           0.0  ...         2.0       460.0      284.0\n",
              "2       2001.0       162.0           1.0  ...         2.0       608.0      434.0\n",
              "3       1998.0         0.0           1.0  ...         3.0       642.0      540.0\n",
              "4       2000.0       350.0           1.0  ...         3.0       836.0      490.0\n",
              "\n",
              "[5 rows x 10 columns]"
            ]
          },
          "metadata": {
            "tags": []
          },
          "execution_count": 22
        }
      ]
    },
    {
      "cell_type": "markdown",
      "metadata": {
        "id": "53rY4YQ-RROH",
        "colab_type": "text"
      },
      "source": [
        "* ``MasVnrArea``: (Masonry veneer area) is in square feet, the missing data means no veneer so we fill with 0.\n",
        "* ``GarageYrBlt`` (Year garage was built), we fill the gaps with the median: 1979.\n",
        "* For the rest of the columns: Bathroom, half bathroom, basement related columns and garage related columns, we will fill with 0's because they just mean that the hosue doesn't have a basement, bathrooms or a garage."
      ]
    },
    {
      "cell_type": "code",
      "metadata": {
        "id": "NFI7oeg9RROI",
        "colab_type": "code",
        "colab": {}
      },
      "source": [
        "c['MasVnrArea'] = c.MasVnrArea.fillna(0)\n",
        "\n",
        "c['GarageYrBlt'] = c[\"GarageYrBlt\"].fillna(c[\"GarageYrBlt\"].median())"
      ],
      "execution_count": 0,
      "outputs": []
    },
    {
      "cell_type": "markdown",
      "metadata": {
        "id": "JO5QU-HsRROK",
        "colab_type": "text"
      },
      "source": [
        "Concerning the 18 Categorical features with missing values:\n",
        "* Some features have just 1 or 2 missing values, so we will just use the forward fill method because they are obviously values that can't be filled with 'None's\n",
        "* Features with many missing values are mostly basement and garage related (same as in numerical features) so as we did with numerical features (filling them with 0s), we will fill the categorical missing values with 'None's assuming that the houses lack basements and garages."
      ]
    },
    {
      "cell_type": "code",
      "metadata": {
        "id": "sV8bLNONRROL",
        "colab_type": "code",
        "outputId": "311bc654-f710-4d45-e9bd-c1cde21b1419",
        "colab": {
          "base_uri": "https://localhost:8080/",
          "height": 224
        }
      },
      "source": [
        "NAcat.head()"
      ],
      "execution_count": 0,
      "outputs": [
        {
          "output_type": "execute_result",
          "data": {
            "text/html": [
              "<div>\n",
              "<style scoped>\n",
              "    .dataframe tbody tr th:only-of-type {\n",
              "        vertical-align: middle;\n",
              "    }\n",
              "\n",
              "    .dataframe tbody tr th {\n",
              "        vertical-align: top;\n",
              "    }\n",
              "\n",
              "    .dataframe thead th {\n",
              "        text-align: right;\n",
              "    }\n",
              "</style>\n",
              "<table border=\"1\" class=\"dataframe\">\n",
              "  <thead>\n",
              "    <tr style=\"text-align: right;\">\n",
              "      <th></th>\n",
              "      <th>GarageQual</th>\n",
              "      <th>GarageFinish</th>\n",
              "      <th>GarageCond</th>\n",
              "      <th>GarageType</th>\n",
              "      <th>BsmtCond</th>\n",
              "      <th>BsmtExposure</th>\n",
              "      <th>BsmtQual</th>\n",
              "      <th>BsmtFinType2</th>\n",
              "      <th>BsmtFinType1</th>\n",
              "      <th>MasVnrType</th>\n",
              "      <th>MSZoning</th>\n",
              "      <th>Functional</th>\n",
              "      <th>Utilities</th>\n",
              "      <th>Exterior1st</th>\n",
              "      <th>Exterior2nd</th>\n",
              "      <th>SaleType</th>\n",
              "      <th>Electrical</th>\n",
              "      <th>KitchenQual</th>\n",
              "    </tr>\n",
              "  </thead>\n",
              "  <tbody>\n",
              "    <tr>\n",
              "      <th>0</th>\n",
              "      <td>TA</td>\n",
              "      <td>RFn</td>\n",
              "      <td>TA</td>\n",
              "      <td>Attchd</td>\n",
              "      <td>TA</td>\n",
              "      <td>No</td>\n",
              "      <td>Gd</td>\n",
              "      <td>Unf</td>\n",
              "      <td>GLQ</td>\n",
              "      <td>BrkFace</td>\n",
              "      <td>RL</td>\n",
              "      <td>Typ</td>\n",
              "      <td>AllPub</td>\n",
              "      <td>VinylSd</td>\n",
              "      <td>VinylSd</td>\n",
              "      <td>WD</td>\n",
              "      <td>SBrkr</td>\n",
              "      <td>Gd</td>\n",
              "    </tr>\n",
              "    <tr>\n",
              "      <th>1</th>\n",
              "      <td>TA</td>\n",
              "      <td>RFn</td>\n",
              "      <td>TA</td>\n",
              "      <td>Attchd</td>\n",
              "      <td>TA</td>\n",
              "      <td>Gd</td>\n",
              "      <td>Gd</td>\n",
              "      <td>Unf</td>\n",
              "      <td>ALQ</td>\n",
              "      <td>None</td>\n",
              "      <td>RL</td>\n",
              "      <td>Typ</td>\n",
              "      <td>AllPub</td>\n",
              "      <td>MetalSd</td>\n",
              "      <td>MetalSd</td>\n",
              "      <td>WD</td>\n",
              "      <td>SBrkr</td>\n",
              "      <td>TA</td>\n",
              "    </tr>\n",
              "    <tr>\n",
              "      <th>2</th>\n",
              "      <td>TA</td>\n",
              "      <td>RFn</td>\n",
              "      <td>TA</td>\n",
              "      <td>Attchd</td>\n",
              "      <td>TA</td>\n",
              "      <td>Mn</td>\n",
              "      <td>Gd</td>\n",
              "      <td>Unf</td>\n",
              "      <td>GLQ</td>\n",
              "      <td>BrkFace</td>\n",
              "      <td>RL</td>\n",
              "      <td>Typ</td>\n",
              "      <td>AllPub</td>\n",
              "      <td>VinylSd</td>\n",
              "      <td>VinylSd</td>\n",
              "      <td>WD</td>\n",
              "      <td>SBrkr</td>\n",
              "      <td>Gd</td>\n",
              "    </tr>\n",
              "    <tr>\n",
              "      <th>3</th>\n",
              "      <td>TA</td>\n",
              "      <td>Unf</td>\n",
              "      <td>TA</td>\n",
              "      <td>Detchd</td>\n",
              "      <td>Gd</td>\n",
              "      <td>No</td>\n",
              "      <td>TA</td>\n",
              "      <td>Unf</td>\n",
              "      <td>ALQ</td>\n",
              "      <td>None</td>\n",
              "      <td>RL</td>\n",
              "      <td>Typ</td>\n",
              "      <td>AllPub</td>\n",
              "      <td>Wd Sdng</td>\n",
              "      <td>Wd Shng</td>\n",
              "      <td>WD</td>\n",
              "      <td>SBrkr</td>\n",
              "      <td>Gd</td>\n",
              "    </tr>\n",
              "    <tr>\n",
              "      <th>4</th>\n",
              "      <td>TA</td>\n",
              "      <td>RFn</td>\n",
              "      <td>TA</td>\n",
              "      <td>Attchd</td>\n",
              "      <td>TA</td>\n",
              "      <td>Av</td>\n",
              "      <td>Gd</td>\n",
              "      <td>Unf</td>\n",
              "      <td>GLQ</td>\n",
              "      <td>BrkFace</td>\n",
              "      <td>RL</td>\n",
              "      <td>Typ</td>\n",
              "      <td>AllPub</td>\n",
              "      <td>VinylSd</td>\n",
              "      <td>VinylSd</td>\n",
              "      <td>WD</td>\n",
              "      <td>SBrkr</td>\n",
              "      <td>Gd</td>\n",
              "    </tr>\n",
              "  </tbody>\n",
              "</table>\n",
              "</div>"
            ],
            "text/plain": [
              "  GarageQual GarageFinish GarageCond  ... SaleType Electrical KitchenQual\n",
              "0         TA          RFn         TA  ...       WD      SBrkr          Gd\n",
              "1         TA          RFn         TA  ...       WD      SBrkr          TA\n",
              "2         TA          RFn         TA  ...       WD      SBrkr          Gd\n",
              "3         TA          Unf         TA  ...       WD      SBrkr          Gd\n",
              "4         TA          RFn         TA  ...       WD      SBrkr          Gd\n",
              "\n",
              "[5 rows x 18 columns]"
            ]
          },
          "metadata": {
            "tags": []
          },
          "execution_count": 24
        }
      ]
    },
    {
      "cell_type": "markdown",
      "metadata": {
        "id": "gs2O5S2-RRON",
        "colab_type": "text"
      },
      "source": [
        "Let's display the number of missing values per categorical feature:"
      ]
    },
    {
      "cell_type": "code",
      "metadata": {
        "id": "Cp5ra0NTRROP",
        "colab_type": "code",
        "outputId": "bcc27bae-068b-4c20-c08f-38010978fbae",
        "colab": {
          "base_uri": "https://localhost:8080/",
          "height": 81
        }
      },
      "source": [
        "stylerfunc(NAcat.isnull().sum().head(18).to_frame().sort_values(by=[0]).T)"
      ],
      "execution_count": 0,
      "outputs": [
        {
          "output_type": "execute_result",
          "data": {
            "text/html": [
              "<style  type=\"text/css\" >\n",
              "    #T_5371486a_321a_11ea_b2ce_0242ac1c0002row0_col0 {\n",
              "            background-color:  #e5ffff;\n",
              "            color:  #000000;\n",
              "        }    #T_5371486a_321a_11ea_b2ce_0242ac1c0002row0_col1 {\n",
              "            background-color:  #e5ffff;\n",
              "            color:  #000000;\n",
              "        }    #T_5371486a_321a_11ea_b2ce_0242ac1c0002row0_col2 {\n",
              "            background-color:  #e5ffff;\n",
              "            color:  #000000;\n",
              "        }    #T_5371486a_321a_11ea_b2ce_0242ac1c0002row0_col3 {\n",
              "            background-color:  #e5ffff;\n",
              "            color:  #000000;\n",
              "        }    #T_5371486a_321a_11ea_b2ce_0242ac1c0002row0_col4 {\n",
              "            background-color:  #e5ffff;\n",
              "            color:  #000000;\n",
              "        }    #T_5371486a_321a_11ea_b2ce_0242ac1c0002row0_col5 {\n",
              "            background-color:  #e5ffff;\n",
              "            color:  #000000;\n",
              "        }    #T_5371486a_321a_11ea_b2ce_0242ac1c0002row0_col6 {\n",
              "            background-color:  #e5ffff;\n",
              "            color:  #000000;\n",
              "        }    #T_5371486a_321a_11ea_b2ce_0242ac1c0002row0_col7 {\n",
              "            background-color:  #e5ffff;\n",
              "            color:  #000000;\n",
              "        }    #T_5371486a_321a_11ea_b2ce_0242ac1c0002row0_col8 {\n",
              "            background-color:  #e5ffff;\n",
              "            color:  #000000;\n",
              "        }    #T_5371486a_321a_11ea_b2ce_0242ac1c0002row0_col9 {\n",
              "            background-color:  #e5ffff;\n",
              "            color:  #000000;\n",
              "        }    #T_5371486a_321a_11ea_b2ce_0242ac1c0002row0_col10 {\n",
              "            background-color:  #e5ffff;\n",
              "            color:  #000000;\n",
              "        }    #T_5371486a_321a_11ea_b2ce_0242ac1c0002row0_col11 {\n",
              "            background-color:  #e5ffff;\n",
              "            color:  #000000;\n",
              "        }    #T_5371486a_321a_11ea_b2ce_0242ac1c0002row0_col12 {\n",
              "            background-color:  #e5ffff;\n",
              "            color:  #000000;\n",
              "        }    #T_5371486a_321a_11ea_b2ce_0242ac1c0002row0_col13 {\n",
              "            background-color:  #e5ffff;\n",
              "            color:  #000000;\n",
              "        }    #T_5371486a_321a_11ea_b2ce_0242ac1c0002row0_col14 {\n",
              "            background-color:  #e5ffff;\n",
              "            color:  #000000;\n",
              "        }    #T_5371486a_321a_11ea_b2ce_0242ac1c0002row0_col15 {\n",
              "            background-color:  #e5ffff;\n",
              "            color:  #000000;\n",
              "        }    #T_5371486a_321a_11ea_b2ce_0242ac1c0002row0_col16 {\n",
              "            background-color:  #e5ffff;\n",
              "            color:  #000000;\n",
              "        }    #T_5371486a_321a_11ea_b2ce_0242ac1c0002row0_col17 {\n",
              "            background-color:  #e5ffff;\n",
              "            color:  #000000;\n",
              "        }</style><table id=\"T_5371486a_321a_11ea_b2ce_0242ac1c0002\" ><thead>    <tr>        <th class=\"blank level0\" ></th>        <th class=\"col_heading level0 col0\" >KitchenQual</th>        <th class=\"col_heading level0 col1\" >SaleType</th>        <th class=\"col_heading level0 col2\" >Exterior2nd</th>        <th class=\"col_heading level0 col3\" >Exterior1st</th>        <th class=\"col_heading level0 col4\" >Electrical</th>        <th class=\"col_heading level0 col5\" >Utilities</th>        <th class=\"col_heading level0 col6\" >Functional</th>        <th class=\"col_heading level0 col7\" >MSZoning</th>        <th class=\"col_heading level0 col8\" >MasVnrType</th>        <th class=\"col_heading level0 col9\" >BsmtFinType1</th>        <th class=\"col_heading level0 col10\" >BsmtFinType2</th>        <th class=\"col_heading level0 col11\" >BsmtQual</th>        <th class=\"col_heading level0 col12\" >BsmtExposure</th>        <th class=\"col_heading level0 col13\" >BsmtCond</th>        <th class=\"col_heading level0 col14\" >GarageType</th>        <th class=\"col_heading level0 col15\" >GarageCond</th>        <th class=\"col_heading level0 col16\" >GarageFinish</th>        <th class=\"col_heading level0 col17\" >GarageQual</th>    </tr></thead><tbody>\n",
              "                <tr>\n",
              "                        <th id=\"T_5371486a_321a_11ea_b2ce_0242ac1c0002level0_row0\" class=\"row_heading level0 row0\" >0</th>\n",
              "                        <td id=\"T_5371486a_321a_11ea_b2ce_0242ac1c0002row0_col0\" class=\"data row0 col0\" >1</td>\n",
              "                        <td id=\"T_5371486a_321a_11ea_b2ce_0242ac1c0002row0_col1\" class=\"data row0 col1\" >1</td>\n",
              "                        <td id=\"T_5371486a_321a_11ea_b2ce_0242ac1c0002row0_col2\" class=\"data row0 col2\" >1</td>\n",
              "                        <td id=\"T_5371486a_321a_11ea_b2ce_0242ac1c0002row0_col3\" class=\"data row0 col3\" >1</td>\n",
              "                        <td id=\"T_5371486a_321a_11ea_b2ce_0242ac1c0002row0_col4\" class=\"data row0 col4\" >1</td>\n",
              "                        <td id=\"T_5371486a_321a_11ea_b2ce_0242ac1c0002row0_col5\" class=\"data row0 col5\" >2</td>\n",
              "                        <td id=\"T_5371486a_321a_11ea_b2ce_0242ac1c0002row0_col6\" class=\"data row0 col6\" >2</td>\n",
              "                        <td id=\"T_5371486a_321a_11ea_b2ce_0242ac1c0002row0_col7\" class=\"data row0 col7\" >4</td>\n",
              "                        <td id=\"T_5371486a_321a_11ea_b2ce_0242ac1c0002row0_col8\" class=\"data row0 col8\" >24</td>\n",
              "                        <td id=\"T_5371486a_321a_11ea_b2ce_0242ac1c0002row0_col9\" class=\"data row0 col9\" >79</td>\n",
              "                        <td id=\"T_5371486a_321a_11ea_b2ce_0242ac1c0002row0_col10\" class=\"data row0 col10\" >80</td>\n",
              "                        <td id=\"T_5371486a_321a_11ea_b2ce_0242ac1c0002row0_col11\" class=\"data row0 col11\" >81</td>\n",
              "                        <td id=\"T_5371486a_321a_11ea_b2ce_0242ac1c0002row0_col12\" class=\"data row0 col12\" >82</td>\n",
              "                        <td id=\"T_5371486a_321a_11ea_b2ce_0242ac1c0002row0_col13\" class=\"data row0 col13\" >82</td>\n",
              "                        <td id=\"T_5371486a_321a_11ea_b2ce_0242ac1c0002row0_col14\" class=\"data row0 col14\" >157</td>\n",
              "                        <td id=\"T_5371486a_321a_11ea_b2ce_0242ac1c0002row0_col15\" class=\"data row0 col15\" >159</td>\n",
              "                        <td id=\"T_5371486a_321a_11ea_b2ce_0242ac1c0002row0_col16\" class=\"data row0 col16\" >159</td>\n",
              "                        <td id=\"T_5371486a_321a_11ea_b2ce_0242ac1c0002row0_col17\" class=\"data row0 col17\" >159</td>\n",
              "            </tr>\n",
              "    </tbody></table>"
            ],
            "text/plain": [
              "<pandas.io.formats.style.Styler at 0x7f843a9ede10>"
            ]
          },
          "metadata": {
            "tags": []
          },
          "execution_count": 25
        }
      ]
    },
    {
      "cell_type": "markdown",
      "metadata": {
        "id": "zVV0d662RROW",
        "colab_type": "text"
      },
      "source": [
        "We start with categorical features having just few missing values, as example the number of M.V. less than 5. \n",
        "\n",
        "Lest's locate these features and then we fill the gap with forward fill method:"
      ]
    },
    {
      "cell_type": "code",
      "metadata": {
        "id": "cTC641VMRROX",
        "colab_type": "code",
        "outputId": "51e9bac6-bd75-4874-e103-18b2b84f1af8",
        "colab": {
          "base_uri": "https://localhost:8080/",
          "height": 51
        }
      },
      "source": [
        "mvthreshold = 4\n",
        "\n",
        "print(f'The categorical features having a number of M.V. less or equal to {mvthreshold}:\\n', \n",
        "      list(NAcat.columns[NAcat.isnull().sum()<=mvthreshold]))"
      ],
      "execution_count": 0,
      "outputs": [
        {
          "output_type": "stream",
          "text": [
            "The categorical features having a number of M.V. less or equal to 4:\n",
            " ['MSZoning', 'Functional', 'Utilities', 'Exterior1st', 'Exterior2nd', 'SaleType', 'Electrical', 'KitchenQual']\n"
          ],
          "name": "stdout"
        }
      ]
    },
    {
      "cell_type": "code",
      "metadata": {
        "id": "P98HBrK1RROZ",
        "colab_type": "code",
        "colab": {}
      },
      "source": [
        "fewMVNAcat = list(NAcat.columns[NAcat.isnull().sum()<=mvthreshold])\n",
        "for f in fewMVNAcat:\n",
        "    c[f] = c[f].fillna(method='ffill')"
      ],
      "execution_count": 0,
      "outputs": []
    },
    {
      "cell_type": "markdown",
      "metadata": {
        "id": "HRAtDO5jRROc",
        "colab_type": "text"
      },
      "source": [
        "Let's check if these categorical features do not yet have M.V."
      ]
    },
    {
      "cell_type": "code",
      "metadata": {
        "id": "TKd7vRkjRROd",
        "colab_type": "code",
        "outputId": "9fa21d18-52b7-43bb-f8f9-2965a31f7693",
        "colab": {
          "base_uri": "https://localhost:8080/",
          "height": 61
        }
      },
      "source": [
        "stylerfunc(c[fewMVNAcat].isnull().sum().to_frame().sort_values(by=[0]).T)"
      ],
      "execution_count": 0,
      "outputs": [
        {
          "output_type": "execute_result",
          "data": {
            "text/html": [
              "<style  type=\"text/css\" >\n",
              "    #T_537dcc52_321a_11ea_b2ce_0242ac1c0002row0_col0 {\n",
              "            background-color:  #e5ffff;\n",
              "            color:  #000000;\n",
              "        }    #T_537dcc52_321a_11ea_b2ce_0242ac1c0002row0_col1 {\n",
              "            background-color:  #e5ffff;\n",
              "            color:  #000000;\n",
              "        }    #T_537dcc52_321a_11ea_b2ce_0242ac1c0002row0_col2 {\n",
              "            background-color:  #e5ffff;\n",
              "            color:  #000000;\n",
              "        }    #T_537dcc52_321a_11ea_b2ce_0242ac1c0002row0_col3 {\n",
              "            background-color:  #e5ffff;\n",
              "            color:  #000000;\n",
              "        }    #T_537dcc52_321a_11ea_b2ce_0242ac1c0002row0_col4 {\n",
              "            background-color:  #e5ffff;\n",
              "            color:  #000000;\n",
              "        }    #T_537dcc52_321a_11ea_b2ce_0242ac1c0002row0_col5 {\n",
              "            background-color:  #e5ffff;\n",
              "            color:  #000000;\n",
              "        }    #T_537dcc52_321a_11ea_b2ce_0242ac1c0002row0_col6 {\n",
              "            background-color:  #e5ffff;\n",
              "            color:  #000000;\n",
              "        }    #T_537dcc52_321a_11ea_b2ce_0242ac1c0002row0_col7 {\n",
              "            background-color:  #e5ffff;\n",
              "            color:  #000000;\n",
              "        }</style><table id=\"T_537dcc52_321a_11ea_b2ce_0242ac1c0002\" ><thead>    <tr>        <th class=\"blank level0\" ></th>        <th class=\"col_heading level0 col0\" >MSZoning</th>        <th class=\"col_heading level0 col1\" >Functional</th>        <th class=\"col_heading level0 col2\" >Utilities</th>        <th class=\"col_heading level0 col3\" >Exterior1st</th>        <th class=\"col_heading level0 col4\" >Exterior2nd</th>        <th class=\"col_heading level0 col5\" >SaleType</th>        <th class=\"col_heading level0 col6\" >Electrical</th>        <th class=\"col_heading level0 col7\" >KitchenQual</th>    </tr></thead><tbody>\n",
              "                <tr>\n",
              "                        <th id=\"T_537dcc52_321a_11ea_b2ce_0242ac1c0002level0_row0\" class=\"row_heading level0 row0\" >0</th>\n",
              "                        <td id=\"T_537dcc52_321a_11ea_b2ce_0242ac1c0002row0_col0\" class=\"data row0 col0\" >0</td>\n",
              "                        <td id=\"T_537dcc52_321a_11ea_b2ce_0242ac1c0002row0_col1\" class=\"data row0 col1\" >0</td>\n",
              "                        <td id=\"T_537dcc52_321a_11ea_b2ce_0242ac1c0002row0_col2\" class=\"data row0 col2\" >0</td>\n",
              "                        <td id=\"T_537dcc52_321a_11ea_b2ce_0242ac1c0002row0_col3\" class=\"data row0 col3\" >0</td>\n",
              "                        <td id=\"T_537dcc52_321a_11ea_b2ce_0242ac1c0002row0_col4\" class=\"data row0 col4\" >0</td>\n",
              "                        <td id=\"T_537dcc52_321a_11ea_b2ce_0242ac1c0002row0_col5\" class=\"data row0 col5\" >0</td>\n",
              "                        <td id=\"T_537dcc52_321a_11ea_b2ce_0242ac1c0002row0_col6\" class=\"data row0 col6\" >0</td>\n",
              "                        <td id=\"T_537dcc52_321a_11ea_b2ce_0242ac1c0002row0_col7\" class=\"data row0 col7\" >0</td>\n",
              "            </tr>\n",
              "    </tbody></table>"
            ],
            "text/plain": [
              "<pandas.io.formats.style.Styler at 0x7f843a9e6f60>"
            ]
          },
          "metadata": {
            "tags": []
          },
          "execution_count": 28
        }
      ]
    },
    {
      "cell_type": "markdown",
      "metadata": {
        "id": "Xlc7AgIGRROg",
        "colab_type": "text"
      },
      "source": [
        "* We already dealt with small missing values or values that can't be filled with \"0\" such as Garage year built.\n",
        "* The rest of features are mostly basement and garage related with 100s of missing values, we will just fill 0s in the numerical features and 'None' in categorical features, assuming that the houses don't have basements, full bathrooms or garage."
      ]
    },
    {
      "cell_type": "code",
      "metadata": {
        "id": "wx03cuQvRROh",
        "colab_type": "code",
        "outputId": "3ceacb14-7253-400a-ba70-32e08a43bf6f",
        "colab": {
          "base_uri": "https://localhost:8080/",
          "height": 395
        }
      },
      "source": [
        "mvrateplot((NAcat.isnull().sum()/len(NAcat)), 'Missing value average per categorical feature')"
      ],
      "execution_count": 0,
      "outputs": [
        {
          "output_type": "display_data",
          "data": {
            "image/png": "[encoded data removed]",
            "text/plain": [
              "<Figure size 720x432 with 1 Axes>"
            ]
          },
          "metadata": {
            "tags": []
          }
        }
      ]
    },
    {
      "cell_type": "code",
      "metadata": {
        "id": "wnjA6EwbRROk",
        "colab_type": "code",
        "outputId": "c67f43c1-91a2-4dbc-b63e-c70117202b2a",
        "colab": {
          "base_uri": "https://localhost:8080/",
          "height": 395
        }
      },
      "source": [
        "mvrateplot((NAnum.isnull().sum()/len(NAnum)), 'Missing value average per numerical feature')"
      ],
      "execution_count": 0,
      "outputs": [
        {
          "output_type": "display_data",
          "data": {
            "image/png": "[encoded data removed]",
            "text/plain": [
              "<Figure size 720x432 with 1 Axes>"
            ]
          },
          "metadata": {
            "tags": []
          }
        }
      ]
    },
    {
      "cell_type": "markdown",
      "metadata": {
        "id": "Pid6zlNuRROn",
        "colab_type": "text"
      },
      "source": [
        "Now for the rest of features, we will just fill 0s in the numerical features and 'None' in categorical features, assuming that the houses don't have basements, full bathrooms or garage."
      ]
    },
    {
      "cell_type": "code",
      "metadata": {
        "id": "oCTLepFURROo",
        "colab_type": "code",
        "colab": {}
      },
      "source": [
        "for col in NA.columns:\n",
        "    if c[col].dtype == \"object\":\n",
        "        c[col] = c[col].fillna(\"None\")\n",
        "    else:\n",
        "        c[col] = c[col].fillna(0)"
      ],
      "execution_count": 0,
      "outputs": []
    },
    {
      "cell_type": "markdown",
      "metadata": {
        "id": "62Dz3YmoRROr",
        "colab_type": "text"
      },
      "source": [
        "Checking if the dataframe ``c`` contains yet missing values:"
      ]
    },
    {
      "cell_type": "code",
      "metadata": {
        "id": "-rzr0hDzRROs",
        "colab_type": "code",
        "outputId": "2342002e-1627-47ef-bf2f-dc6f0e37d3a5",
        "colab": {
          "base_uri": "https://localhost:8080/",
          "height": 119
        }
      },
      "source": [
        "c.isnull().sum().sort_values(ascending=False).head()"
      ],
      "execution_count": 0,
      "outputs": [
        {
          "output_type": "execute_result",
          "data": {
            "text/plain": [
              "SaleCondition    0\n",
              "TotalBsmtSF      0\n",
              "RoofMatl         0\n",
              "Exterior1st      0\n",
              "Exterior2nd      0\n",
              "dtype: int64"
            ]
          },
          "metadata": {
            "tags": []
          },
          "execution_count": 32
        }
      ]
    },
    {
      "cell_type": "markdown",
      "metadata": {
        "id": "Yi7RvGA6RROv",
        "colab_type": "text"
      },
      "source": [
        "We finally end up with a clean dataset, next thing to do is create new features.\n",
        "\n",
        "# <a id='3'>3. Feature Engineering</a>\n",
        "\n",
        "Since the area is a very important variable, we will create a new feature \"**TotalArea**\" that sums the area of all the floors and the basement.\n",
        "* **Bathrooms**: All the bathroom in the ground floor\n",
        "* **Year average**: The average of the sum of the year in which the house was built and the year the house was remodeled."
      ]
    },
    {
      "cell_type": "code",
      "metadata": {
        "id": "_zqeHzIVRROw",
        "colab_type": "code",
        "colab": {}
      },
      "source": [
        "c['TotalArea'] = c['TotalBsmtSF'] + c['1stFlrSF'] + c['2ndFlrSF'] + c['GrLivArea'] + c['GarageArea']\n",
        "\n",
        "c['Bathrooms'] = c['FullBath'] + c['HalfBath']*0.5 \n",
        "\n",
        "c['YearAverage'] = (c['YearRemodAdd'] + c['YearBuilt'])/2"
      ],
      "execution_count": 0,
      "outputs": []
    },
    {
      "cell_type": "markdown",
      "metadata": {
        "id": "rtTUP25iRROy",
        "colab_type": "text"
      },
      "source": [
        "Feature engineering is very important to improve the model's performance, I will start in this kernel just with the TotalArea, Bathrooms and average year features and will keep updating the kernel by creating new features."
      ]
    },
    {
      "cell_type": "markdown",
      "metadata": {
        "id": "LyEyd7utRRO0",
        "colab_type": "text"
      },
      "source": [
        "# <a id='4'>4. Encoding Categorical Features</a>"
      ]
    },
    {
      "cell_type": "code",
      "metadata": {
        "id": "2YTsFIo-RRO1",
        "colab_type": "code",
        "outputId": "4efd6846-2466-437c-be60-3ef5bfe65520",
        "colab": {
          "base_uri": "https://localhost:8080/",
          "height": 68
        }
      },
      "source": [
        "cb = pd.get_dummies(c) \n",
        "print(\"The shape of the original dataset:\", c.shape)\n",
        "print(\"The shape of the encoded dataset:\", cb.shape)\n",
        "print(f'--> {cb.shape[1] - c.shape[1]} encoded features are added to the combined dataset.')"
      ],
      "execution_count": 0,
      "outputs": [
        {
          "output_type": "stream",
          "text": [
            "The shape of the original dataset: (2919, 76)\n",
            "The shape of the encoded dataset: (2919, 281)\n",
            "--> 205 encoded features are added to the combined dataset.\n"
          ],
          "name": "stdout"
        }
      ]
    },
    {
      "cell_type": "markdown",
      "metadata": {
        "id": "-lxGLuZbRRO5",
        "colab_type": "text"
      },
      "source": [
        "We are done with the cleaning, normalization and feature engineering. Now, we split the combined dataset to the original train and test sets."
      ]
    },
    {
      "cell_type": "code",
      "metadata": {
        "id": "Cz_1RLuLRRO5",
        "colab_type": "code",
        "outputId": "46fb018d-a514-4100-aeeb-5ee219d8affe",
        "colab": {
          "base_uri": "https://localhost:8080/",
          "height": 51
        }
      },
      "source": [
        "Train = cb[:trainsize]  #trainsize is the number of rows of the original training set\n",
        "Test = cb[trainsize:] \n",
        "print(\"The shape of train dataset:\", Train.shape)\n",
        "print(\"The shape of test dataset:\", Test.shape)"
      ],
      "execution_count": 0,
      "outputs": [
        {
          "output_type": "stream",
          "text": [
            "The shape of train dataset: (1460, 281)\n",
            "The shape of test dataset: (1459, 281)\n"
          ],
          "name": "stdout"
        }
      ]
    },
    {
      "cell_type": "markdown",
      "metadata": {
        "id": "M0e2XXBERRO8",
        "colab_type": "text"
      },
      "source": [
        "# <a id='5'>5. Detecting Outliers</a>\n",
        "\n",
        "This part of the kernel will be a little bit messy. I didn't want to deal with the outliers in the combined dataset to keep the shape of the original train and test datasets. Dropping them would shift the location of the rows.\n",
        "\n",
        "So we go back to our original train dataset to visualize the important features / Sale price scatter plots to find outliers"
      ]
    },
    {
      "cell_type": "code",
      "metadata": {
        "id": "PqkZJgt-RRO8",
        "colab_type": "code",
        "outputId": "5e1abfbd-8b91-439a-df42-93b5b2883e57",
        "colab": {
          "base_uri": "https://localhost:8080/",
          "height": 609
        }
      },
      "source": [
        "fig = plt.figure(figsize=(15,10))\n",
        "ax1 = plt.subplot2grid((2,2),(0,0))\n",
        "plt.scatter(x=a['GrLivArea'], y=a['SalePrice'], color=('yellowgreen'))\n",
        "plt.axvline(x=4600, color='r', linestyle='-')\n",
        "plt.title('Ground living Area - Price scatter plot', fontsize=15, weight='bold' )\n",
        "\n",
        "ax1 = plt.subplot2grid((2,2),(0,1))\n",
        "plt.scatter(x=a['TotalBsmtSF'], y=a['SalePrice'], color=('red'))\n",
        "plt.axvline(x=5900, color='r', linestyle='-')\n",
        "plt.title('Basement Area - Price scatter plot', fontsize=15, weight='bold' )\n",
        "\n",
        "ax1 = plt.subplot2grid((2,2),(1,0))\n",
        "plt.scatter(x=a['1stFlrSF'], y=a['SalePrice'], color=('deepskyblue'))\n",
        "plt.axvline(x=4000, color='r', linestyle='-')\n",
        "plt.title('First floor Area - Price scatter plot', fontsize=15, weight='bold' )\n",
        "\n",
        "ax1 = plt.subplot2grid((2,2),(1,1))\n",
        "plt.scatter(x=a['MasVnrArea'], y=a['SalePrice'], color=('gold'))\n",
        "plt.axvline(x=1500, color='r', linestyle='-')\n",
        "plt.title('Masonry veneer Area - Price scatter plot', fontsize=15, weight='bold' )\n",
        "plt.show()"
      ],
      "execution_count": 0,
      "outputs": [
        {
          "output_type": "display_data",
          "data": {
            "image/png": "[encoded data removed]",
            "text/plain": [
              "<Figure size 1080x720 with 4 Axes>"
            ]
          },
          "metadata": {
            "tags": []
          }
        }
      ]
    },
    {
      "cell_type": "markdown",
      "metadata": {
        "id": "173lwmviRRO-",
        "colab_type": "text"
      },
      "source": [
        "The outliers are the points in the right that have a larger area but a very low sale price. We localize those points by sorting their respective columns\n",
        "\n",
        "* The outlier in \"basement\" and \"first floor\" features is the same as the first outlier in ground living area: **the outlier with index number 1298. **\n",
        "* We detect the outlier 297 in MasVnrArea."
      ]
    },
    {
      "cell_type": "code",
      "metadata": {
        "id": "7OEOTRgkRRO_",
        "colab_type": "code",
        "outputId": "d73e2672-823a-4eaf-ffca-2b45573ddab8",
        "colab": {
          "base_uri": "https://localhost:8080/",
          "height": 221
        }
      },
      "source": [
        "print(a['GrLivArea'].sort_values(ascending=False).head(2))\n",
        "print('*'*30)\n",
        "print(a['TotalBsmtSF'].sort_values(ascending=False).head(1))\n",
        "print('*'*30)\n",
        "print(a['MasVnrArea'].sort_values(ascending=False).head(1))\n",
        "print('*'*30)\n",
        "print(a['1stFlrSF'].sort_values(ascending=False).head(1))"
      ],
      "execution_count": 0,
      "outputs": [
        {
          "output_type": "stream",
          "text": [
            "1298    5642\n",
            "523     4676\n",
            "Name: GrLivArea, dtype: int64\n",
            "******************************\n",
            "1298    6110\n",
            "Name: TotalBsmtSF, dtype: int64\n",
            "******************************\n",
            "297    1600.0\n",
            "Name: MasVnrArea, dtype: float64\n",
            "******************************\n",
            "1298    4692\n",
            "Name: 1stFlrSF, dtype: int64\n"
          ],
          "name": "stdout"
        }
      ]
    },
    {
      "cell_type": "markdown",
      "metadata": {
        "id": "C6JjnxsERRPC",
        "colab_type": "text"
      },
      "source": [
        "We can safety remove those 3 outliers by creating a new dataframe without these index (297, 523, 1298)  "
      ]
    },
    {
      "cell_type": "code",
      "metadata": {
        "id": "S_K-Dz2CRRPD",
        "colab_type": "code",
        "outputId": "ba35fbbb-3042-430b-dc54-f0ea9b021703",
        "colab": {
          "base_uri": "https://localhost:8080/",
          "height": 34
        }
      },
      "source": [
        "train = Train[(Train['GrLivArea'] < 4600) & (Train['MasVnrArea'] < 1500)]\n",
        "\n",
        "print(f'--> {Train.shape[0]-train.shape[0]} outliers are removed from the train dataset.')"
      ],
      "execution_count": 0,
      "outputs": [
        {
          "output_type": "stream",
          "text": [
            "--> 3 outliers are removed from the train dataset.\n"
          ],
          "name": "stdout"
        }
      ]
    },
    {
      "cell_type": "markdown",
      "metadata": {
        "id": "FmHu1_PpRRPH",
        "colab_type": "text"
      },
      "source": [
        "We do with the same thing with ``SalePrice`` feature, we localize those rows with these index (297, 523, 1298) and make sure they are the right outliers to remove. "
      ]
    },
    {
      "cell_type": "code",
      "metadata": {
        "id": "otSMUACiRRPI",
        "colab_type": "code",
        "colab": {}
      },
      "source": [
        "target = a[['SalePrice']]\n",
        "outliers = [1298, 523, 297]\n",
        "target.drop(target.index[outliers], inplace=True)"
      ],
      "execution_count": 0,
      "outputs": []
    },
    {
      "cell_type": "code",
      "metadata": {
        "id": "pII4hfgvRRPK",
        "colab_type": "code",
        "outputId": "5dcd45b3-6e6d-45c0-82b9-a9547768a987",
        "colab": {
          "base_uri": "https://localhost:8080/",
          "height": 68
        }
      },
      "source": [
        "print('Make sure that both train and target sets have the same row number after removing the outliers:')\n",
        "print('Train:', train.shape[0], 'rows')\n",
        "print('Target:', target.shape[0], 'rows')"
      ],
      "execution_count": 0,
      "outputs": [
        {
          "output_type": "stream",
          "text": [
            "Make sure that both train and target sets have the same row number after removing the outliers:\n",
            "Train: 1457 rows\n",
            "Target: 1457 rows\n"
          ],
          "name": "stdout"
        }
      ]
    },
    {
      "cell_type": "code",
      "metadata": {
        "id": "XCAAH9ZZRRPM",
        "colab_type": "code",
        "outputId": "96a1bb0d-ec72-49f1-d7b7-8bfee23dca6d",
        "colab": {
          "base_uri": "https://localhost:8080/",
          "height": 340
        }
      },
      "source": [
        "plt.style.use('seaborn')\n",
        "sns.set_style('whitegrid')\n",
        "fig = plt.figure(figsize=(15,5))\n",
        "#1 rows 2 cols\n",
        "#first row, first col\n",
        "ax1 = plt.subplot2grid((1,2),(0,0))\n",
        "plt.scatter(x=a['GrLivArea'], y=a['SalePrice'], color=('yellowgreen'), alpha=0.7)\n",
        "plt.title('Area-Price plot with outliers',weight='bold', fontsize=18)\n",
        "plt.axvline(x=4600, color='r', linestyle='-')\n",
        "#first row, second col\n",
        "ax1 = plt.subplot2grid((1,2),(0,1))\n",
        "plt.scatter(x=train['GrLivArea'], y=target['SalePrice'], color='navy', alpha=0.7)\n",
        "plt.axvline(x=4600, color='r', linestyle='-')\n",
        "plt.title('Area-Price plot without outliers',weight='bold', fontsize=18)\n",
        "plt.show()"
      ],
      "execution_count": 0,
      "outputs": [
        {
          "output_type": "display_data",
          "data": {
            "image/png": "[encoded data removed]",
            "text/plain": [
              "<Figure size 1080x360 with 2 Axes>"
            ]
          },
          "metadata": {
            "tags": []
          }
        }
      ]
    },
    {
      "cell_type": "markdown",
      "metadata": {
        "id": "rX0_7C_sRRPO",
        "colab_type": "text"
      },
      "source": [
        "> ### Log tranform the target because it's skewed to the right\n",
        "\n",
        "We will apply **np.log1p** to the skewed features. (To get the original values back, we will apply **np.expm1** at the end of the study after training and testing the models. "
      ]
    },
    {
      "cell_type": "code",
      "metadata": {
        "id": "qi1lXqeBRRPO",
        "colab_type": "code",
        "colab": {}
      },
      "source": [
        "target[\"SalePrice\"] = np.log1p(target[\"SalePrice\"])"
      ],
      "execution_count": 0,
      "outputs": []
    },
    {
      "cell_type": "code",
      "metadata": {
        "id": "X1Xi6Yw0RRPQ",
        "colab_type": "code",
        "outputId": "985e4280-c608-437b-a063-55efe200bfa9",
        "colab": {
          "base_uri": "https://localhost:8080/",
          "height": 734
        }
      },
      "source": [
        "plt.style.use('seaborn')\n",
        "sns.set_style('whitegrid')\n",
        "fig = plt.figure(figsize=(8,12))\n",
        "#1 rows 2 cols\n",
        "#first row, first col\n",
        "ax1 = plt.subplot2grid((2,1),(0,0))\n",
        "sns.distplot(np.expm1(target[\"SalePrice\"]), color='plum')\n",
        "plt.title('Before: Distribution of SalePrice',weight='bold', fontsize=18)\n",
        "#first row, second col\n",
        "ax1 = plt.subplot2grid((2,1),(1,0))\n",
        "sns.distplot(target[\"SalePrice\"], color='tan')\n",
        "plt.title('After: Distribution of SalePrice',weight='bold', fontsize=18)\n",
        "plt.show()"
      ],
      "execution_count": 0,
      "outputs": [
        {
          "output_type": "display_data",
          "data": {
            "image/png": "[encoded data removed]",
            "text/plain": [
              "<Figure size 576x864 with 2 Axes>"
            ]
          },
          "metadata": {
            "tags": []
          }
        }
      ]
    },
    {
      "cell_type": "markdown",
      "metadata": {
        "id": "2wrlC2MvRRPU",
        "colab_type": "text"
      },
      "source": [
        "# <a id='6'>6. Building Machine Learning Models</a>"
      ]
    },
    {
      "cell_type": "code",
      "metadata": {
        "id": "i8JvBGqBRRPW",
        "colab_type": "code",
        "colab": {}
      },
      "source": [
        "from sklearn.model_selection import cross_val_score, GridSearchCV, KFold, RandomizedSearchCV, train_test_split\n",
        "from sklearn.preprocessing import RobustScaler, StandardScaler\n",
        "from sklearn.linear_model import LinearRegression, Lasso, Ridge, ElasticNet, SGDRegressor\n",
        "from sklearn.ensemble import RandomForestRegressor, GradientBoostingRegressor, VotingRegressor\n",
        "from sklearn.svm import SVR\n",
        "from sklearn.metrics import make_scorer, mean_squared_error\n",
        "from sklearn.pipeline import Pipeline\n",
        "from lightgbm import LGBMRegressor\n",
        "from xgboost import XGBRegressor\n",
        "from mlxtend.regressor import StackingRegressor\n",
        "import math\n",
        "import time"
      ],
      "execution_count": 0,
      "outputs": []
    },
    {
      "cell_type": "markdown",
      "metadata": {
        "id": "IkOHm0zMRRPc",
        "colab_type": "text"
      },
      "source": [
        "## Preprocessing\n",
        "We start machine learning by setting the features and target:\n",
        "* Features: x\n",
        "* Target: y"
      ]
    },
    {
      "cell_type": "code",
      "metadata": {
        "id": "7AL6wqENRRPd",
        "colab_type": "code",
        "outputId": "fe3878b8-6cb4-461d-8469-66a4d3abd938",
        "colab": {
          "base_uri": "https://localhost:8080/",
          "height": 68
        }
      },
      "source": [
        "print(train.shape)\n",
        "print(target.shape)\n",
        "print(Test.shape)"
      ],
      "execution_count": 0,
      "outputs": [
        {
          "output_type": "stream",
          "text": [
            "(1457, 281)\n",
            "(1457, 1)\n",
            "(1459, 281)\n"
          ],
          "name": "stdout"
        }
      ]
    },
    {
      "cell_type": "code",
      "metadata": {
        "id": "OGWbm2UDRRPf",
        "colab_type": "code",
        "colab": {}
      },
      "source": [
        "x = train\n",
        "y = np.array(target)"
      ],
      "execution_count": 0,
      "outputs": []
    },
    {
      "cell_type": "markdown",
      "metadata": {
        "id": "cHfod6JhRRPg",
        "colab_type": "text"
      },
      "source": [
        "Splitting the data to train and test datasets"
      ]
    },
    {
      "cell_type": "code",
      "metadata": {
        "id": "5NpxX7rRRRPh",
        "colab_type": "code",
        "colab": {}
      },
      "source": [
        "x_train, x_test, y_train, y_test = train_test_split(x, y, test_size = .33, random_state=0)"
      ],
      "execution_count": 0,
      "outputs": []
    },
    {
      "cell_type": "markdown",
      "metadata": {
        "id": "VgeG36EHRRPj",
        "colab_type": "text"
      },
      "source": [
        "RobustScaler can be used to scale the data because it's powerful against outliers, we already detected some but there must be some other outliers out there."
      ]
    },
    {
      "cell_type": "code",
      "metadata": {
        "id": "6zV4rrBLRRPm",
        "colab_type": "code",
        "colab": {}
      },
      "source": [
        "scaler = RobustScaler()\n",
        "# transform \"x_train\"\n",
        "x_train = scaler.fit_transform(x_train)\n",
        "# transform \"x_test\"\n",
        "x_test = scaler.transform(x_test)\n",
        "# transform \"x\"\n",
        "x = scaler.transform(x)\n",
        "# transform the test set\n",
        "X_test = scaler.transform(Test)"
      ],
      "execution_count": 0,
      "outputs": []
    },
    {
      "cell_type": "code",
      "metadata": {
        "id": "lYbC4i1DRRPp",
        "colab_type": "code",
        "colab": {}
      },
      "source": [
        "def GridSearchCVmodels(modellist, x_train, y_train, x_test, y_test, x, y, cv): \n",
        "    results = {}\n",
        "    bestregressors = {}\n",
        "    for regmodel in modellist:\n",
        "        vars()[\"grid_%s\"%regmodel.__name__] = GridSearchCV(estimator=regmodel(), \n",
        "                                                           param_grid=param_grid.get(regmodel.__name__),\n",
        "                                                           cv=cv, scoring='neg_mean_squared_error', verbose=0, \n",
        "                                                           n_jobs=-1, return_train_score=True, iid=False).fit(x_train, y_train.ravel())\n",
        "        print(f'Regressor {modellist.index(regmodel)+1}/{len(modellist)}:')\n",
        "        print(\"-> Best Mean RMSE: %f using %s with %s\" % (-vars()[\"grid_%s\"%regmodel.__name__].best_score_, \n",
        "                                                          regmodel.__name__, \n",
        "                                                          vars()[\"grid_%s\"%regmodel.__name__].best_params_))\n",
        "\n",
        "        results[regmodel.__name__] = [-max(vars()[\"grid_%s\"%regmodel.__name__].cv_results_['mean_train_score']),\n",
        "                                      -max(vars()[\"grid_%s\"%regmodel.__name__].cv_results_['mean_test_score']),\n",
        "                                      np.sqrt(mean_squared_error(vars()[\"grid_%s\"%regmodel.__name__].best_estimator_.predict(x_train), y_train)),\n",
        "                                      np.sqrt(mean_squared_error(vars()[\"grid_%s\"%regmodel.__name__].best_estimator_.predict(x_test), y_test)), \n",
        "                                      np.sqrt(mean_squared_error(vars()[\"grid_%s\"%regmodel.__name__].best_estimator_.predict(x), y)), \n",
        "                                     ]\n",
        "        \n",
        "        bestregressors[regmodel.__name__] = vars()[\"grid_%s\"%regmodel.__name__].best_estimator_\n",
        "    \n",
        "    return results, bestregressors"
      ],
      "execution_count": 0,
      "outputs": []
    },
    {
      "cell_type": "code",
      "metadata": {
        "id": "Rr8-ivwtRRPs",
        "colab_type": "code",
        "outputId": "2b6555e4-4f77-4f6e-8935-680b46bbea1a",
        "colab": {
          "base_uri": "https://localhost:8080/",
          "height": 309
        }
      },
      "source": [
        "param_grid_Ridge = {'alpha': np.arange(10.4, 10.6, 0.01), \n",
        "                    'fit_intercept': [True, False],\n",
        "                   }\n",
        "\n",
        "param_grid_Lasso = {'alpha': np.arange(4.2, 4.4, 0.01)*1e-4,\n",
        "                    'fit_intercept': [True, False],\n",
        "                   }\n",
        "\n",
        "param_grid_ElasticNet = {'random_state': [1],\n",
        "                         'alpha': np.arange(34, 35, 0.1)*1e-04,\n",
        "                         'l1_ratio': np.arange(84, 85, 0.1)*1e-03,\n",
        "                         'fit_intercept': [True, False], \n",
        "                        }\n",
        "\n",
        "param_grid_XGBRegressor = {'objective': ['reg:squarederror'],\n",
        "                           'gamma': [0], #np.arange(0, 10, 1), \n",
        "                           'n_estimators': [4110], #np.arange(4000, 4500, 100),  \n",
        "                           'learning_rate': [0.01],\n",
        "                           'seed': [27],\n",
        "                          }\n",
        "\n",
        "param_grid = {\"Ridge\": param_grid_Ridge,\n",
        "              \"Lasso\": param_grid_Lasso,\n",
        "              \"ElasticNet\": param_grid_ElasticNet,\n",
        "              \"XGBRegressor\": param_grid_XGBRegressor,\n",
        "              }\n",
        "\n",
        "modellist = [Ridge, Lasso, ElasticNet, XGBRegressor]\n",
        "\n",
        "results, bestregressors = GridSearchCVmodels(modellist, x_train, y_train, x_test, y_test, x, y, cv=5)\n",
        "\n",
        "pd.DataFrame(results, index=['SubSubTrainData', 'SubSubTestData', 'SubTrainData', 'SubTestData', 'AllTrainData']).transpose()"
      ],
      "execution_count": 0,
      "outputs": [
        {
          "output_type": "stream",
          "text": [
            "Regressor 1/4:\n",
            "-> Best Mean RMSE: 0.013375 using Ridge with {'alpha': 10.509999999999998, 'fit_intercept': True}\n",
            "Regressor 2/4:\n",
            "-> Best Mean RMSE: 0.013120 using Lasso with {'alpha': 0.0004279999999999999, 'fit_intercept': True}\n",
            "Regressor 3/4:\n",
            "-> Best Mean RMSE: 0.013136 using ElasticNet with {'alpha': 0.0034400000000000008, 'fit_intercept': True, 'l1_ratio': 0.0842, 'random_state': 1}\n",
            "Regressor 4/4:\n",
            "-> Best Mean RMSE: 0.014894 using XGBRegressor with {'gamma': 0, 'learning_rate': 0.01, 'n_estimators': 4110, 'objective': 'reg:squarederror', 'seed': 27}\n"
          ],
          "name": "stdout"
        },
        {
          "output_type": "execute_result",
          "data": {
            "text/html": [
              "<div>\n",
              "<style scoped>\n",
              "    .dataframe tbody tr th:only-of-type {\n",
              "        vertical-align: middle;\n",
              "    }\n",
              "\n",
              "    .dataframe tbody tr th {\n",
              "        vertical-align: top;\n",
              "    }\n",
              "\n",
              "    .dataframe thead th {\n",
              "        text-align: right;\n",
              "    }\n",
              "</style>\n",
              "<table border=\"1\" class=\"dataframe\">\n",
              "  <thead>\n",
              "    <tr style=\"text-align: right;\">\n",
              "      <th></th>\n",
              "      <th>SubSubTrainData</th>\n",
              "      <th>SubSubTestData</th>\n",
              "      <th>SubTrainData</th>\n",
              "      <th>SubTestData</th>\n",
              "      <th>AllTrainData</th>\n",
              "    </tr>\n",
              "  </thead>\n",
              "  <tbody>\n",
              "    <tr>\n",
              "      <th>Ridge</th>\n",
              "      <td>0.008390</td>\n",
              "      <td>0.013375</td>\n",
              "      <td>0.093357</td>\n",
              "      <td>0.115232</td>\n",
              "      <td>0.101104</td>\n",
              "    </tr>\n",
              "    <tr>\n",
              "      <th>Lasso</th>\n",
              "      <td>0.008414</td>\n",
              "      <td>0.013120</td>\n",
              "      <td>0.094539</td>\n",
              "      <td>0.114233</td>\n",
              "      <td>0.101464</td>\n",
              "    </tr>\n",
              "    <tr>\n",
              "      <th>ElasticNet</th>\n",
              "      <td>0.008373</td>\n",
              "      <td>0.013136</td>\n",
              "      <td>0.094312</td>\n",
              "      <td>0.115055</td>\n",
              "      <td>0.101629</td>\n",
              "    </tr>\n",
              "    <tr>\n",
              "      <th>XGBRegressor</th>\n",
              "      <td>0.001310</td>\n",
              "      <td>0.014894</td>\n",
              "      <td>0.041937</td>\n",
              "      <td>0.116296</td>\n",
              "      <td>0.075120</td>\n",
              "    </tr>\n",
              "  </tbody>\n",
              "</table>\n",
              "</div>"
            ],
            "text/plain": [
              "              SubSubTrainData  SubSubTestData  ...  SubTestData  AllTrainData\n",
              "Ridge                0.008390        0.013375  ...     0.115232      0.101104\n",
              "Lasso                0.008414        0.013120  ...     0.114233      0.101464\n",
              "ElasticNet           0.008373        0.013136  ...     0.115055      0.101629\n",
              "XGBRegressor         0.001310        0.014894  ...     0.116296      0.075120\n",
              "\n",
              "[4 rows x 5 columns]"
            ]
          },
          "metadata": {
            "tags": []
          },
          "execution_count": 50
        }
      ]
    },
    {
      "cell_type": "code",
      "metadata": {
        "id": "j_BBLhuVRRPu",
        "colab_type": "code",
        "colab": {}
      },
      "source": [
        "def VotingRegressorCV(estimators_list, vote_params, x_train, y_train, x_test, y_test, x, y, cv):\n",
        "    estimator=VotingRegressor(estimators_list)\n",
        "    grid = GridSearchCV(estimator,\n",
        "                        param_grid=vote_params, \n",
        "                        cv=cv, scoring='neg_mean_squared_error', \n",
        "                        verbose=0, n_jobs=-1, return_train_score=True, iid=False).fit(x_train, y_train.ravel())\n",
        "\n",
        "    print(\"-> Best Mean RMSE: %f using %s with %s\" % (-grid.best_score_, \n",
        "                                                      type(estimator).__name__, \n",
        "                                                      grid.best_params_))\n",
        "    \n",
        "    results['%s'%type(estimator).__name__] = [-max(grid.cv_results_['mean_train_score']), \n",
        "                                              -max(grid.cv_results_['mean_test_score']), \n",
        "                                              np.sqrt(mean_squared_error(grid.best_estimator_.predict(x_train), y_train)), \n",
        "                                              np.sqrt(mean_squared_error(grid.best_estimator_.predict(x_test), y_test)), \n",
        "                                              np.sqrt(mean_squared_error(grid.best_estimator_.predict(x), y)), \n",
        "                                             ]\n",
        "    return grid, results"
      ],
      "execution_count": 0,
      "outputs": []
    },
    {
      "cell_type": "code",
      "metadata": {
        "id": "RMYtlwTGRRPw",
        "colab_type": "code",
        "outputId": "5bee7758-1fe8-4ce0-b02d-09afd1d0ba4a",
        "colab": {
          "base_uri": "https://localhost:8080/",
          "height": 221
        }
      },
      "source": [
        "estimators_list = [('Ridge', bestregressors['Ridge']),  \n",
        "                   ('Lasso', bestregressors['Lasso']), \n",
        "                   ('ElasticNet', bestregressors['ElasticNet']), \n",
        "                   ('XGBRegressor', bestregressors['XGBRegressor']), \n",
        "                  ]\n",
        "\n",
        "#Set parameters for GridSearch\n",
        "vote_params = {'weights': [(1, 1, 1, 1),\n",
        "                           #(0, 1, 1, 1), \n",
        "                           #(1, 0, 1, 1), \n",
        "                           #(1, 1, 0, 1),\n",
        "                           #(1, 1, 1, 0),\n",
        "                          ], \n",
        "              }\n",
        "\n",
        "grid_VotingRegressor, results = VotingRegressorCV(estimators_list, vote_params, x_train, y_train, x_test, y_test, x, y, cv=5)\n",
        "\n",
        "pd.DataFrame(results, index=['SubSubTrainData', 'SubSubTestData', 'SubTrainData', 'SubTestData', 'AllTrainData']).transpose()"
      ],
      "execution_count": 0,
      "outputs": [
        {
          "output_type": "stream",
          "text": [
            "-> Best Mean RMSE: 0.012527 using VotingRegressor with {'weights': (1, 1, 1, 1)}\n"
          ],
          "name": "stdout"
        },
        {
          "output_type": "execute_result",
          "data": {
            "text/html": [
              "<div>\n",
              "<style scoped>\n",
              "    .dataframe tbody tr th:only-of-type {\n",
              "        vertical-align: middle;\n",
              "    }\n",
              "\n",
              "    .dataframe tbody tr th {\n",
              "        vertical-align: top;\n",
              "    }\n",
              "\n",
              "    .dataframe thead th {\n",
              "        text-align: right;\n",
              "    }\n",
              "</style>\n",
              "<table border=\"1\" class=\"dataframe\">\n",
              "  <thead>\n",
              "    <tr style=\"text-align: right;\">\n",
              "      <th></th>\n",
              "      <th>SubSubTrainData</th>\n",
              "      <th>SubSubTestData</th>\n",
              "      <th>SubTrainData</th>\n",
              "      <th>SubTestData</th>\n",
              "      <th>AllTrainData</th>\n",
              "    </tr>\n",
              "  </thead>\n",
              "  <tbody>\n",
              "    <tr>\n",
              "      <th>Ridge</th>\n",
              "      <td>0.008390</td>\n",
              "      <td>0.013375</td>\n",
              "      <td>0.093357</td>\n",
              "      <td>0.115232</td>\n",
              "      <td>0.101104</td>\n",
              "    </tr>\n",
              "    <tr>\n",
              "      <th>Lasso</th>\n",
              "      <td>0.008414</td>\n",
              "      <td>0.013120</td>\n",
              "      <td>0.094539</td>\n",
              "      <td>0.114233</td>\n",
              "      <td>0.101464</td>\n",
              "    </tr>\n",
              "    <tr>\n",
              "      <th>ElasticNet</th>\n",
              "      <td>0.008373</td>\n",
              "      <td>0.013136</td>\n",
              "      <td>0.094312</td>\n",
              "      <td>0.115055</td>\n",
              "      <td>0.101629</td>\n",
              "    </tr>\n",
              "    <tr>\n",
              "      <th>XGBRegressor</th>\n",
              "      <td>0.001310</td>\n",
              "      <td>0.014894</td>\n",
              "      <td>0.041937</td>\n",
              "      <td>0.116296</td>\n",
              "      <td>0.075120</td>\n",
              "    </tr>\n",
              "    <tr>\n",
              "      <th>VotingRegressor</th>\n",
              "      <td>0.005665</td>\n",
              "      <td>0.012527</td>\n",
              "      <td>0.078372</td>\n",
              "      <td>0.110327</td>\n",
              "      <td>0.090182</td>\n",
              "    </tr>\n",
              "  </tbody>\n",
              "</table>\n",
              "</div>"
            ],
            "text/plain": [
              "                 SubSubTrainData  SubSubTestData  ...  SubTestData  AllTrainData\n",
              "Ridge                   0.008390        0.013375  ...     0.115232      0.101104\n",
              "Lasso                   0.008414        0.013120  ...     0.114233      0.101464\n",
              "ElasticNet              0.008373        0.013136  ...     0.115055      0.101629\n",
              "XGBRegressor            0.001310        0.014894  ...     0.116296      0.075120\n",
              "VotingRegressor         0.005665        0.012527  ...     0.110327      0.090182\n",
              "\n",
              "[5 rows x 5 columns]"
            ]
          },
          "metadata": {
            "tags": []
          },
          "execution_count": 52
        }
      ]
    },
    {
      "cell_type": "code",
      "metadata": {
        "id": "zqboPse8RRPz",
        "colab_type": "code",
        "colab": {}
      },
      "source": [
        "def StackingRegressorCV(regressors, meta_regressor, params, x_train, y_train, x_test, y_test, x, y, cv):\n",
        "    stackreg = StackingRegressor(regressors=regressors, meta_regressor=meta_regressor, use_features_in_secondary=True)\n",
        "    \n",
        "    grid = GridSearchCV(estimator=stackreg,\n",
        "                        param_grid=params, \n",
        "                        cv=cv, scoring='neg_mean_squared_error', \n",
        "                        verbose=0, n_jobs=-1, return_train_score=True, iid=False).fit(x_train, y_train.ravel())\n",
        "\n",
        "    print(\"-> Best Mean RMSE: %f using Stack_%s with %s\" % (-grid.best_score_, \n",
        "                                                         type(meta_regressor).__name__, \n",
        "                                                         grid.best_params_))\n",
        "    \n",
        "    results['Stack_%s'%type(meta_regressor).__name__] = [-max(grid.cv_results_['mean_train_score']), \n",
        "                                                         -max(grid.cv_results_['mean_test_score']), \n",
        "                                                         np.sqrt(mean_squared_error(grid.best_estimator_.predict(x_train), y_train)), \n",
        "                                                         np.sqrt(mean_squared_error(grid.best_estimator_.predict(x_test), y_test)), \n",
        "                                                         np.sqrt(mean_squared_error(grid.best_estimator_.predict(x), y)), \n",
        "                                                        ]\n",
        "    return grid, results"
      ],
      "execution_count": 0,
      "outputs": []
    },
    {
      "cell_type": "code",
      "metadata": {
        "id": "ttq2QeiFRRP1",
        "colab_type": "code",
        "outputId": "72986c33-bf72-43ef-9435-4db2d22c74dc",
        "colab": {
          "base_uri": "https://localhost:8080/",
          "height": 252
        }
      },
      "source": [
        "params = {'meta_regressor__alpha': [63.8], #np.arange(63.8, 63.9, 0.01)*1e-0, \n",
        "          'meta_regressor__fit_intercept': [False], #[True, False], \n",
        "         } \n",
        "          \n",
        "grid_Stack_Ridge, results = StackingRegressorCV(regressors = [bestregressors['Lasso'], \n",
        "                                                              bestregressors['ElasticNet'], \n",
        "                                                              grid_VotingRegressor.best_estimator_, \n",
        "                                                             ], \n",
        "                                                meta_regressor = Ridge(), \n",
        "                                                params = params, x_train = x_train, \n",
        "                                                y_train = y_train, x_test = x_test, \n",
        "                                                y_test = y_test, x = x, y = y, cv=5) \n",
        "          \n",
        "pd.DataFrame(results, index=['SubSubTrainData', 'SubSubTestData', 'SubTrainData', 'SubTestData', 'AllTrainData']).transpose()"
      ],
      "execution_count": 0,
      "outputs": [
        {
          "output_type": "stream",
          "text": [
            "-> Best Mean RMSE: 0.012998 using Stack_Ridge with {'meta_regressor__alpha': 63.8, 'meta_regressor__fit_intercept': False}\n"
          ],
          "name": "stdout"
        },
        {
          "output_type": "execute_result",
          "data": {
            "text/html": [
              "<div>\n",
              "<style scoped>\n",
              "    .dataframe tbody tr th:only-of-type {\n",
              "        vertical-align: middle;\n",
              "    }\n",
              "\n",
              "    .dataframe tbody tr th {\n",
              "        vertical-align: top;\n",
              "    }\n",
              "\n",
              "    .dataframe thead th {\n",
              "        text-align: right;\n",
              "    }\n",
              "</style>\n",
              "<table border=\"1\" class=\"dataframe\">\n",
              "  <thead>\n",
              "    <tr style=\"text-align: right;\">\n",
              "      <th></th>\n",
              "      <th>SubSubTrainData</th>\n",
              "      <th>SubSubTestData</th>\n",
              "      <th>SubTrainData</th>\n",
              "      <th>SubTestData</th>\n",
              "      <th>AllTrainData</th>\n",
              "    </tr>\n",
              "  </thead>\n",
              "  <tbody>\n",
              "    <tr>\n",
              "      <th>Ridge</th>\n",
              "      <td>0.008390</td>\n",
              "      <td>0.013375</td>\n",
              "      <td>0.093357</td>\n",
              "      <td>0.115232</td>\n",
              "      <td>0.101104</td>\n",
              "    </tr>\n",
              "    <tr>\n",
              "      <th>Lasso</th>\n",
              "      <td>0.008414</td>\n",
              "      <td>0.013120</td>\n",
              "      <td>0.094539</td>\n",
              "      <td>0.114233</td>\n",
              "      <td>0.101464</td>\n",
              "    </tr>\n",
              "    <tr>\n",
              "      <th>ElasticNet</th>\n",
              "      <td>0.008373</td>\n",
              "      <td>0.013136</td>\n",
              "      <td>0.094312</td>\n",
              "      <td>0.115055</td>\n",
              "      <td>0.101629</td>\n",
              "    </tr>\n",
              "    <tr>\n",
              "      <th>XGBRegressor</th>\n",
              "      <td>0.001310</td>\n",
              "      <td>0.014894</td>\n",
              "      <td>0.041937</td>\n",
              "      <td>0.116296</td>\n",
              "      <td>0.075120</td>\n",
              "    </tr>\n",
              "    <tr>\n",
              "      <th>VotingRegressor</th>\n",
              "      <td>0.005665</td>\n",
              "      <td>0.012527</td>\n",
              "      <td>0.078372</td>\n",
              "      <td>0.110327</td>\n",
              "      <td>0.090182</td>\n",
              "    </tr>\n",
              "    <tr>\n",
              "      <th>Stack_Ridge</th>\n",
              "      <td>0.007228</td>\n",
              "      <td>0.012998</td>\n",
              "      <td>0.087626</td>\n",
              "      <td>0.114206</td>\n",
              "      <td>0.097208</td>\n",
              "    </tr>\n",
              "  </tbody>\n",
              "</table>\n",
              "</div>"
            ],
            "text/plain": [
              "                 SubSubTrainData  SubSubTestData  ...  SubTestData  AllTrainData\n",
              "Ridge                   0.008390        0.013375  ...     0.115232      0.101104\n",
              "Lasso                   0.008414        0.013120  ...     0.114233      0.101464\n",
              "ElasticNet              0.008373        0.013136  ...     0.115055      0.101629\n",
              "XGBRegressor            0.001310        0.014894  ...     0.116296      0.075120\n",
              "VotingRegressor         0.005665        0.012527  ...     0.110327      0.090182\n",
              "Stack_Ridge             0.007228        0.012998  ...     0.114206      0.097208\n",
              "\n",
              "[6 rows x 5 columns]"
            ]
          },
          "metadata": {
            "tags": []
          },
          "execution_count": 54
        }
      ]
    },
    {
      "cell_type": "code",
      "metadata": {
        "id": "O0Rt6dYbRRP5",
        "colab_type": "code",
        "outputId": "2ece04d8-fd3b-477f-c165-059d9a818ae9",
        "colab": {
          "base_uri": "https://localhost:8080/",
          "height": 303
        }
      },
      "source": [
        "params = {'meta_regressor__random_state': [1],\n",
        "          'meta_regressor__alpha': [0.0034], #np.arange(34, 35, 0.1)*1e-04,\n",
        "          'meta_regressor__l1_ratio': [0.084], #np.arange(84, 85, 0.1)*1e-03,\n",
        "          'meta_regressor__fit_intercept': [True, False],\n",
        "         } \n",
        "\n",
        "grid_Stack_ElasticNet, results = StackingRegressorCV(regressors = [bestregressors['Ridge'], \n",
        "                                                                   bestregressors['Lasso'],  \n",
        "                                                                   grid_VotingRegressor.best_estimator_, \n",
        "                                                                  ], \n",
        "                                                     meta_regressor = ElasticNet(), \n",
        "                                                     params = params, x_train = x_train, \n",
        "                                                     y_train = y_train, x_test = x_test, \n",
        "                                                     y_test = y_test, x = x, y = y, cv=5) \n",
        "          \n",
        "pd.DataFrame(results, index=['SubSubTrainData', 'SubSubTestData', 'SubTrainData', 'SubTestData', 'AllTrainData']).transpose()"
      ],
      "execution_count": 0,
      "outputs": [
        {
          "output_type": "stream",
          "text": [
            "-> Best Mean RMSE: 0.012694 using Stack_ElasticNet with {'meta_regressor__alpha': 0.0034, 'meta_regressor__fit_intercept': True, 'meta_regressor__l1_ratio': 0.084, 'meta_regressor__random_state': 1}\n"
          ],
          "name": "stdout"
        },
        {
          "output_type": "execute_result",
          "data": {
            "text/html": [
              "<div>\n",
              "<style scoped>\n",
              "    .dataframe tbody tr th:only-of-type {\n",
              "        vertical-align: middle;\n",
              "    }\n",
              "\n",
              "    .dataframe tbody tr th {\n",
              "        vertical-align: top;\n",
              "    }\n",
              "\n",
              "    .dataframe thead th {\n",
              "        text-align: right;\n",
              "    }\n",
              "</style>\n",
              "<table border=\"1\" class=\"dataframe\">\n",
              "  <thead>\n",
              "    <tr style=\"text-align: right;\">\n",
              "      <th></th>\n",
              "      <th>SubSubTrainData</th>\n",
              "      <th>SubSubTestData</th>\n",
              "      <th>SubTrainData</th>\n",
              "      <th>SubTestData</th>\n",
              "      <th>AllTrainData</th>\n",
              "    </tr>\n",
              "  </thead>\n",
              "  <tbody>\n",
              "    <tr>\n",
              "      <th>Ridge</th>\n",
              "      <td>0.008390</td>\n",
              "      <td>0.013375</td>\n",
              "      <td>0.093357</td>\n",
              "      <td>0.115232</td>\n",
              "      <td>0.101104</td>\n",
              "    </tr>\n",
              "    <tr>\n",
              "      <th>Lasso</th>\n",
              "      <td>0.008414</td>\n",
              "      <td>0.013120</td>\n",
              "      <td>0.094539</td>\n",
              "      <td>0.114233</td>\n",
              "      <td>0.101464</td>\n",
              "    </tr>\n",
              "    <tr>\n",
              "      <th>ElasticNet</th>\n",
              "      <td>0.008373</td>\n",
              "      <td>0.013136</td>\n",
              "      <td>0.094312</td>\n",
              "      <td>0.115055</td>\n",
              "      <td>0.101629</td>\n",
              "    </tr>\n",
              "    <tr>\n",
              "      <th>XGBRegressor</th>\n",
              "      <td>0.001310</td>\n",
              "      <td>0.014894</td>\n",
              "      <td>0.041937</td>\n",
              "      <td>0.116296</td>\n",
              "      <td>0.075120</td>\n",
              "    </tr>\n",
              "    <tr>\n",
              "      <th>VotingRegressor</th>\n",
              "      <td>0.005665</td>\n",
              "      <td>0.012527</td>\n",
              "      <td>0.078372</td>\n",
              "      <td>0.110327</td>\n",
              "      <td>0.090182</td>\n",
              "    </tr>\n",
              "    <tr>\n",
              "      <th>Stack_Ridge</th>\n",
              "      <td>0.007228</td>\n",
              "      <td>0.012998</td>\n",
              "      <td>0.087626</td>\n",
              "      <td>0.114206</td>\n",
              "      <td>0.097208</td>\n",
              "    </tr>\n",
              "    <tr>\n",
              "      <th>Stack_ElasticNet</th>\n",
              "      <td>0.006482</td>\n",
              "      <td>0.012694</td>\n",
              "      <td>0.083637</td>\n",
              "      <td>0.111795</td>\n",
              "      <td>0.093871</td>\n",
              "    </tr>\n",
              "  </tbody>\n",
              "</table>\n",
              "</div>"
            ],
            "text/plain": [
              "                  SubSubTrainData  SubSubTestData  ...  SubTestData  AllTrainData\n",
              "Ridge                    0.008390        0.013375  ...     0.115232      0.101104\n",
              "Lasso                    0.008414        0.013120  ...     0.114233      0.101464\n",
              "ElasticNet               0.008373        0.013136  ...     0.115055      0.101629\n",
              "XGBRegressor             0.001310        0.014894  ...     0.116296      0.075120\n",
              "VotingRegressor          0.005665        0.012527  ...     0.110327      0.090182\n",
              "Stack_Ridge              0.007228        0.012998  ...     0.114206      0.097208\n",
              "Stack_ElasticNet         0.006482        0.012694  ...     0.111795      0.093871\n",
              "\n",
              "[7 rows x 5 columns]"
            ]
          },
          "metadata": {
            "tags": []
          },
          "execution_count": 55
        }
      ]
    },
    {
      "cell_type": "code",
      "metadata": {
        "id": "fL2-PHRyRRP7",
        "colab_type": "code",
        "outputId": "7e2fbee6-ad64-4ed9-a060-7c0ca9d810ed",
        "colab": {
          "base_uri": "https://localhost:8080/",
          "height": 334
        }
      },
      "source": [
        "params = {'meta_regressor__seed': [27],\n",
        "          'meta_regressor__objective': ['reg:squarederror'],\n",
        "          'meta_regressor__gamma': [0], #np.arange(8.7, 9.2, 0.1)*1e-04,\n",
        "          'meta_regressor__n_estimators': [2500], #np.arange(72, 93, 5),\n",
        "         }\n",
        "\n",
        "grid_Stack_XGBRegressor, results = StackingRegressorCV(regressors = [bestregressors['Ridge'], \n",
        "                                                                     bestregressors['Lasso'], \n",
        "                                                                     bestregressors['ElasticNet'], \n",
        "                                                                     grid_VotingRegressor.best_estimator_, \n",
        "                                                                    ], \n",
        "                                                       meta_regressor = XGBRegressor(), \n",
        "                                                       params = params, x_train = x_train, \n",
        "                                                       y_train = y_train, x_test = x_test, \n",
        "                                                       y_test = y_test, x = x, y = y, cv=5)\n",
        "\n",
        "pd.DataFrame(results, index=['SubSubTrainData', 'SubSubTestData', 'SubTrainData', 'SubTestData', 'AllTrainData']).transpose()"
      ],
      "execution_count": 0,
      "outputs": [
        {
          "output_type": "stream",
          "text": [
            "-> Best Mean RMSE: 0.013722 using Stack_XGBRegressor with {'meta_regressor__gamma': 0, 'meta_regressor__n_estimators': 2500, 'meta_regressor__objective': 'reg:squarederror', 'meta_regressor__seed': 27}\n"
          ],
          "name": "stdout"
        },
        {
          "output_type": "execute_result",
          "data": {
            "text/html": [
              "<div>\n",
              "<style scoped>\n",
              "    .dataframe tbody tr th:only-of-type {\n",
              "        vertical-align: middle;\n",
              "    }\n",
              "\n",
              "    .dataframe tbody tr th {\n",
              "        vertical-align: top;\n",
              "    }\n",
              "\n",
              "    .dataframe thead th {\n",
              "        text-align: right;\n",
              "    }\n",
              "</style>\n",
              "<table border=\"1\" class=\"dataframe\">\n",
              "  <thead>\n",
              "    <tr style=\"text-align: right;\">\n",
              "      <th></th>\n",
              "      <th>SubSubTrainData</th>\n",
              "      <th>SubSubTestData</th>\n",
              "      <th>SubTrainData</th>\n",
              "      <th>SubTestData</th>\n",
              "      <th>AllTrainData</th>\n",
              "    </tr>\n",
              "  </thead>\n",
              "  <tbody>\n",
              "    <tr>\n",
              "      <th>Ridge</th>\n",
              "      <td>0.008390</td>\n",
              "      <td>0.013375</td>\n",
              "      <td>0.093357</td>\n",
              "      <td>0.115232</td>\n",
              "      <td>0.101104</td>\n",
              "    </tr>\n",
              "    <tr>\n",
              "      <th>Lasso</th>\n",
              "      <td>0.008414</td>\n",
              "      <td>0.013120</td>\n",
              "      <td>0.094539</td>\n",
              "      <td>0.114233</td>\n",
              "      <td>0.101464</td>\n",
              "    </tr>\n",
              "    <tr>\n",
              "      <th>ElasticNet</th>\n",
              "      <td>0.008373</td>\n",
              "      <td>0.013136</td>\n",
              "      <td>0.094312</td>\n",
              "      <td>0.115055</td>\n",
              "      <td>0.101629</td>\n",
              "    </tr>\n",
              "    <tr>\n",
              "      <th>XGBRegressor</th>\n",
              "      <td>0.001310</td>\n",
              "      <td>0.014894</td>\n",
              "      <td>0.041937</td>\n",
              "      <td>0.116296</td>\n",
              "      <td>0.075120</td>\n",
              "    </tr>\n",
              "    <tr>\n",
              "      <th>VotingRegressor</th>\n",
              "      <td>0.005665</td>\n",
              "      <td>0.012527</td>\n",
              "      <td>0.078372</td>\n",
              "      <td>0.110327</td>\n",
              "      <td>0.090182</td>\n",
              "    </tr>\n",
              "    <tr>\n",
              "      <th>Stack_Ridge</th>\n",
              "      <td>0.007228</td>\n",
              "      <td>0.012998</td>\n",
              "      <td>0.087626</td>\n",
              "      <td>0.114206</td>\n",
              "      <td>0.097208</td>\n",
              "    </tr>\n",
              "    <tr>\n",
              "      <th>Stack_ElasticNet</th>\n",
              "      <td>0.006482</td>\n",
              "      <td>0.012694</td>\n",
              "      <td>0.083637</td>\n",
              "      <td>0.111795</td>\n",
              "      <td>0.093871</td>\n",
              "    </tr>\n",
              "    <tr>\n",
              "      <th>Stack_XGBRegressor</th>\n",
              "      <td>0.000003</td>\n",
              "      <td>0.013722</td>\n",
              "      <td>0.001867</td>\n",
              "      <td>0.110638</td>\n",
              "      <td>0.063588</td>\n",
              "    </tr>\n",
              "  </tbody>\n",
              "</table>\n",
              "</div>"
            ],
            "text/plain": [
              "                    SubSubTrainData  SubSubTestData  ...  SubTestData  AllTrainData\n",
              "Ridge                      0.008390        0.013375  ...     0.115232      0.101104\n",
              "Lasso                      0.008414        0.013120  ...     0.114233      0.101464\n",
              "ElasticNet                 0.008373        0.013136  ...     0.115055      0.101629\n",
              "XGBRegressor               0.001310        0.014894  ...     0.116296      0.075120\n",
              "VotingRegressor            0.005665        0.012527  ...     0.110327      0.090182\n",
              "Stack_Ridge                0.007228        0.012998  ...     0.114206      0.097208\n",
              "Stack_ElasticNet           0.006482        0.012694  ...     0.111795      0.093871\n",
              "Stack_XGBRegressor         0.000003        0.013722  ...     0.110638      0.063588\n",
              "\n",
              "[8 rows x 5 columns]"
            ]
          },
          "metadata": {
            "tags": []
          },
          "execution_count": 56
        }
      ]
    },
    {
      "cell_type": "code",
      "metadata": {
        "id": "f1Jc8_2_RRP8",
        "colab_type": "code",
        "outputId": "de2c922c-7ccd-44fa-e35c-c28344ea75d5",
        "colab": {
          "base_uri": "https://localhost:8080/",
          "height": 365
        }
      },
      "source": [
        "df_results = pd.DataFrame(results, index=['SubSubTrainData', 'SubSubTestData', 'SubTrainData', \n",
        "                                          'SubTestData', 'AllTrainData']).transpose()\n",
        "df_results.plot.barh(rot=0)\n",
        "plt.legend(bbox_to_anchor=(1.04,1), loc=\"upper left\")\n",
        "plt.title(\"RMSE score average over datasets\", weight='bold', fontsize=15)\n",
        "plt.show()"
      ],
      "execution_count": 0,
      "outputs": [
        {
          "output_type": "display_data",
          "data": {
            "image/png": "[encoded data removed]",
            "text/plain": [
              "<Figure size 576x396 with 1 Axes>"
            ]
          },
          "metadata": {
            "tags": []
          }
        }
      ]
    },
    {
      "cell_type": "code",
      "metadata": {
        "id": "bqfd7FQvRRP-",
        "colab_type": "code",
        "outputId": "d37522ef-81de-4a96-fd35-43ae8e475625",
        "colab": {
          "base_uri": "https://localhost:8080/",
          "height": 51
        }
      },
      "source": [
        "def blend(df):\n",
        "    blenddf = pd.DataFrame({#'a': bestregressors['Lasso'].predict(df),\n",
        "                            'b': grid_VotingRegressor.best_estimator_.predict(df),\n",
        "                            'c': grid_Stack_XGBRegressor.best_estimator_.predict(df), \n",
        "                           })\n",
        "    return blenddf\n",
        "\n",
        "linregtest = LinearRegression(fit_intercept='False', normalize='False').fit(blend(x_test), y_test)\n",
        "print(linregtest.coef_)\n",
        "print(np.sqrt(mean_squared_error(linregtest.predict(blend(x_test)), y_test)))"
      ],
      "execution_count": 0,
      "outputs": [
        {
          "output_type": "stream",
          "text": [
            "[[0.52265736 0.47965121]]\n",
            "0.10793292245545996\n"
          ],
          "name": "stdout"
        }
      ]
    },
    {
      "cell_type": "markdown",
      "metadata": {
        "id": "MnS1fz8-RRQB",
        "colab_type": "text"
      },
      "source": [
        "\n",
        "If you like to discuss any other projects or just have a chat about data science topics, I'll be more than happy to connect with you on:\n",
        "\n",
        "LinkedIn: https://www.linkedin.com/in/baligh-mnassri/\n",
        "\n",
        "This kernel will always be a work in progress. If you have any idea/suggestions about this notebook, please let me know. Any feedback about further improvements would be genuinely appreciated."
      ]
    }
  ]
}